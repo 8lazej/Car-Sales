{
  "cells": [
    {
      "cell_type": "markdown",
      "metadata": {
        "id": "ntd0Bgu5nobA"
      },
      "source": [
        "# Project: Car Sales - Błażej Kloc\n",
        "\n",
        "## Wprowadzenie\n",
        "\n",
        "Zbiór danych na jakim pracowano w tym projekcie pierwonie pochodzi z z niemieckiej story eBay, zawierał pierwotnie 370000 rekordów z danymi dotyczącymi samochodów sprzedawanych na wspomnianej stronie.\n",
        "\n",
        "![ebay-de.jpg](data:image/jpeg;base64,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)\n",
        "\n",
        "Zbiór danych został na potrzeby projektu zmniejszony do 50000.\n",
        "\n",
        "#### Zawartość zbioru danych:\n",
        "* `dateCrawled` - data umieszczenia na stronie\n",
        "* `name` - nazwa samochodu\n",
        "* `seller` - sprzedawca: prywatny/dealer samochodowy\n",
        "* `offerType `- rodzaj oferty\n",
        "* `price` - cena widoczna na aukcji\n",
        "* `abtest` - czy oferta była w testach A/B (control - grupa kontrolna)\n",
        "* `vehicleType` - typ nadwozia\n",
        "* `yearOfRegistration` - rok pierwszego zarejestrowania samochodu\n",
        "* `gearbox` - skrzynia biegów\n",
        "* `powerPS` - moc auta w PS\n",
        "* `model` - model\n",
        "* `odometer` - przebieg\n",
        "* `monthOfRegistration` - miesiąc pierwszego zarejestrowania samochodu\n",
        "* `fuelType` - rodzaj paliwa\n",
        "* `brand` - marka\n",
        "* `notRepairedDamage` - czy auto posiada uszkodzenia do naprawy (0 - nie 1 - tak)\n",
        "* `dateCreated` - data utworzenia oferty na eBay\n",
        "* `nrOfPictures` - liczba zdjęć na aukcji\n",
        "* `postalCode` - kod pocztowy, miejscowości gdzie auto się znajduje\n",
        "* `lastSeenOnline` - kiedy oferta była otworzona ostatnio\n"
      ]
    },
    {
      "cell_type": "markdown",
      "metadata": {
        "id": "CcqdIZC9ocwW"
      },
      "source": [
        "#### Import bibliotek i danych\n",
        "w celu zaimportowania danych użyto biblioteki pandas, dane były zaszyfrowane w standardzie `Latin-1`, więc zmieniono ich kodowanie. Wyświetlono `head()` i `info() `w celu przyjżenia się danym dokładniej"
      ]
    },
    {
      "cell_type": "code",
      "execution_count": null,
      "metadata": {
        "colab": {
          "base_uri": "https://localhost:8080/",
          "height": 897
        },
        "id": "DzN9m31bnmdf",
        "outputId": "684be788-e254-41b9-df25-af9cfbab11c7"
      },
      "outputs": [
        {
          "name": "stdout",
          "output_type": "stream",
          "text": [
            "<class 'pandas.core.frame.DataFrame'>\n",
            "RangeIndex: 50000 entries, 0 to 49999\n",
            "Data columns (total 20 columns):\n",
            " #   Column               Non-Null Count  Dtype \n",
            "---  ------               --------------  ----- \n",
            " 0   dateCrawled          50000 non-null  object\n",
            " 1   name                 50000 non-null  object\n",
            " 2   seller               50000 non-null  object\n",
            " 3   offerType            50000 non-null  object\n",
            " 4   price                50000 non-null  object\n",
            " 5   abtest               50000 non-null  object\n",
            " 6   vehicleType          44905 non-null  object\n",
            " 7   yearOfRegistration   50000 non-null  int64 \n",
            " 8   gearbox              47320 non-null  object\n",
            " 9   powerPS              50000 non-null  int64 \n",
            " 10  model                47242 non-null  object\n",
            " 11  odometer             50000 non-null  object\n",
            " 12  monthOfRegistration  50000 non-null  int64 \n",
            " 13  fuelType             45518 non-null  object\n",
            " 14  brand                50000 non-null  object\n",
            " 15  notRepairedDamage    40171 non-null  object\n",
            " 16  dateCreated          50000 non-null  object\n",
            " 17  nrOfPictures         50000 non-null  int64 \n",
            " 18  postalCode           50000 non-null  int64 \n",
            " 19  lastSeen             50000 non-null  object\n",
            "dtypes: int64(5), object(15)\n",
            "memory usage: 7.6+ MB\n"
          ]
        },
        {
          "data": {
            "text/html": [
              "\n",
              "  <div id=\"df-b5c0fd8c-c0dc-47ca-8846-8c0181f5562a\">\n",
              "    <div class=\"colab-df-container\">\n",
              "      <div>\n",
              "<style scoped>\n",
              "    .dataframe tbody tr th:only-of-type {\n",
              "        vertical-align: middle;\n",
              "    }\n",
              "\n",
              "    .dataframe tbody tr th {\n",
              "        vertical-align: top;\n",
              "    }\n",
              "\n",
              "    .dataframe thead th {\n",
              "        text-align: right;\n",
              "    }\n",
              "</style>\n",
              "<table border=\"1\" class=\"dataframe\">\n",
              "  <thead>\n",
              "    <tr style=\"text-align: right;\">\n",
              "      <th></th>\n",
              "      <th>dateCrawled</th>\n",
              "      <th>name</th>\n",
              "      <th>seller</th>\n",
              "      <th>offerType</th>\n",
              "      <th>price</th>\n",
              "      <th>abtest</th>\n",
              "      <th>vehicleType</th>\n",
              "      <th>yearOfRegistration</th>\n",
              "      <th>gearbox</th>\n",
              "      <th>powerPS</th>\n",
              "      <th>model</th>\n",
              "      <th>odometer</th>\n",
              "      <th>monthOfRegistration</th>\n",
              "      <th>fuelType</th>\n",
              "      <th>brand</th>\n",
              "      <th>notRepairedDamage</th>\n",
              "      <th>dateCreated</th>\n",
              "      <th>nrOfPictures</th>\n",
              "      <th>postalCode</th>\n",
              "      <th>lastSeen</th>\n",
              "    </tr>\n",
              "  </thead>\n",
              "  <tbody>\n",
              "    <tr>\n",
              "      <th>0</th>\n",
              "      <td>2016-03-26 17:47:46</td>\n",
              "      <td>Peugeot_807_160_NAVTECH_ON_BOARD</td>\n",
              "      <td>privat</td>\n",
              "      <td>Angebot</td>\n",
              "      <td>$5,000</td>\n",
              "      <td>control</td>\n",
              "      <td>bus</td>\n",
              "      <td>2004</td>\n",
              "      <td>manuell</td>\n",
              "      <td>158</td>\n",
              "      <td>andere</td>\n",
              "      <td>150,000km</td>\n",
              "      <td>3</td>\n",
              "      <td>lpg</td>\n",
              "      <td>peugeot</td>\n",
              "      <td>nein</td>\n",
              "      <td>2016-03-26 00:00:00</td>\n",
              "      <td>0</td>\n",
              "      <td>79588</td>\n",
              "      <td>2016-04-06 06:45:54</td>\n",
              "    </tr>\n",
              "    <tr>\n",
              "      <th>1</th>\n",
              "      <td>2016-04-04 13:38:56</td>\n",
              "      <td>BMW_740i_4_4_Liter_HAMANN_UMBAU_Mega_Optik</td>\n",
              "      <td>privat</td>\n",
              "      <td>Angebot</td>\n",
              "      <td>$8,500</td>\n",
              "      <td>control</td>\n",
              "      <td>limousine</td>\n",
              "      <td>1997</td>\n",
              "      <td>automatik</td>\n",
              "      <td>286</td>\n",
              "      <td>7er</td>\n",
              "      <td>150,000km</td>\n",
              "      <td>6</td>\n",
              "      <td>benzin</td>\n",
              "      <td>bmw</td>\n",
              "      <td>nein</td>\n",
              "      <td>2016-04-04 00:00:00</td>\n",
              "      <td>0</td>\n",
              "      <td>71034</td>\n",
              "      <td>2016-04-06 14:45:08</td>\n",
              "    </tr>\n",
              "    <tr>\n",
              "      <th>2</th>\n",
              "      <td>2016-03-26 18:57:24</td>\n",
              "      <td>Volkswagen_Golf_1.6_United</td>\n",
              "      <td>privat</td>\n",
              "      <td>Angebot</td>\n",
              "      <td>$8,990</td>\n",
              "      <td>test</td>\n",
              "      <td>limousine</td>\n",
              "      <td>2009</td>\n",
              "      <td>manuell</td>\n",
              "      <td>102</td>\n",
              "      <td>golf</td>\n",
              "      <td>70,000km</td>\n",
              "      <td>7</td>\n",
              "      <td>benzin</td>\n",
              "      <td>volkswagen</td>\n",
              "      <td>nein</td>\n",
              "      <td>2016-03-26 00:00:00</td>\n",
              "      <td>0</td>\n",
              "      <td>35394</td>\n",
              "      <td>2016-04-06 20:15:37</td>\n",
              "    </tr>\n",
              "    <tr>\n",
              "      <th>3</th>\n",
              "      <td>2016-03-12 16:58:10</td>\n",
              "      <td>Smart_smart_fortwo_coupe_softouch/F1/Klima/Pan...</td>\n",
              "      <td>privat</td>\n",
              "      <td>Angebot</td>\n",
              "      <td>$4,350</td>\n",
              "      <td>control</td>\n",
              "      <td>kleinwagen</td>\n",
              "      <td>2007</td>\n",
              "      <td>automatik</td>\n",
              "      <td>71</td>\n",
              "      <td>fortwo</td>\n",
              "      <td>70,000km</td>\n",
              "      <td>6</td>\n",
              "      <td>benzin</td>\n",
              "      <td>smart</td>\n",
              "      <td>nein</td>\n",
              "      <td>2016-03-12 00:00:00</td>\n",
              "      <td>0</td>\n",
              "      <td>33729</td>\n",
              "      <td>2016-03-15 03:16:28</td>\n",
              "    </tr>\n",
              "    <tr>\n",
              "      <th>4</th>\n",
              "      <td>2016-04-01 14:38:50</td>\n",
              "      <td>Ford_Focus_1_6_Benzin_TÜV_neu_ist_sehr_gepfleg...</td>\n",
              "      <td>privat</td>\n",
              "      <td>Angebot</td>\n",
              "      <td>$1,350</td>\n",
              "      <td>test</td>\n",
              "      <td>kombi</td>\n",
              "      <td>2003</td>\n",
              "      <td>manuell</td>\n",
              "      <td>0</td>\n",
              "      <td>focus</td>\n",
              "      <td>150,000km</td>\n",
              "      <td>7</td>\n",
              "      <td>benzin</td>\n",
              "      <td>ford</td>\n",
              "      <td>nein</td>\n",
              "      <td>2016-04-01 00:00:00</td>\n",
              "      <td>0</td>\n",
              "      <td>39218</td>\n",
              "      <td>2016-04-01 14:38:50</td>\n",
              "    </tr>\n",
              "  </tbody>\n",
              "</table>\n",
              "</div>\n",
              "      <button class=\"colab-df-convert\" onclick=\"convertToInteractive('df-b5c0fd8c-c0dc-47ca-8846-8c0181f5562a')\"\n",
              "              title=\"Convert this dataframe to an interactive table.\"\n",
              "              style=\"display:none;\">\n",
              "        \n",
              "  <svg xmlns=\"http://www.w3.org/2000/svg\" height=\"24px\"viewBox=\"0 0 24 24\"\n",
              "       width=\"24px\">\n",
              "    <path d=\"M0 0h24v24H0V0z\" fill=\"none\"/>\n",
              "    <path d=\"M18.56 5.44l.94 2.06.94-2.06 2.06-.94-2.06-.94-.94-2.06-.94 2.06-2.06.94zm-11 1L8.5 8.5l.94-2.06 2.06-.94-2.06-.94L8.5 2.5l-.94 2.06-2.06.94zm10 10l.94 2.06.94-2.06 2.06-.94-2.06-.94-.94-2.06-.94 2.06-2.06.94z\"/><path d=\"M17.41 7.96l-1.37-1.37c-.4-.4-.92-.59-1.43-.59-.52 0-1.04.2-1.43.59L10.3 9.45l-7.72 7.72c-.78.78-.78 2.05 0 2.83L4 21.41c.39.39.9.59 1.41.59.51 0 1.02-.2 1.41-.59l7.78-7.78 2.81-2.81c.8-.78.8-2.07 0-2.86zM5.41 20L4 18.59l7.72-7.72 1.47 1.35L5.41 20z\"/>\n",
              "  </svg>\n",
              "      </button>\n",
              "      \n",
              "  <style>\n",
              "    .colab-df-container {\n",
              "      display:flex;\n",
              "      flex-wrap:wrap;\n",
              "      gap: 12px;\n",
              "    }\n",
              "\n",
              "    .colab-df-convert {\n",
              "      background-color: #E8F0FE;\n",
              "      border: none;\n",
              "      border-radius: 50%;\n",
              "      cursor: pointer;\n",
              "      display: none;\n",
              "      fill: #1967D2;\n",
              "      height: 32px;\n",
              "      padding: 0 0 0 0;\n",
              "      width: 32px;\n",
              "    }\n",
              "\n",
              "    .colab-df-convert:hover {\n",
              "      background-color: #E2EBFA;\n",
              "      box-shadow: 0px 1px 2px rgba(60, 64, 67, 0.3), 0px 1px 3px 1px rgba(60, 64, 67, 0.15);\n",
              "      fill: #174EA6;\n",
              "    }\n",
              "\n",
              "    [theme=dark] .colab-df-convert {\n",
              "      background-color: #3B4455;\n",
              "      fill: #D2E3FC;\n",
              "    }\n",
              "\n",
              "    [theme=dark] .colab-df-convert:hover {\n",
              "      background-color: #434B5C;\n",
              "      box-shadow: 0px 1px 3px 1px rgba(0, 0, 0, 0.15);\n",
              "      filter: drop-shadow(0px 1px 2px rgba(0, 0, 0, 0.3));\n",
              "      fill: #FFFFFF;\n",
              "    }\n",
              "  </style>\n",
              "\n",
              "      <script>\n",
              "        const buttonEl =\n",
              "          document.querySelector('#df-b5c0fd8c-c0dc-47ca-8846-8c0181f5562a button.colab-df-convert');\n",
              "        buttonEl.style.display =\n",
              "          google.colab.kernel.accessAllowed ? 'block' : 'none';\n",
              "\n",
              "        async function convertToInteractive(key) {\n",
              "          const element = document.querySelector('#df-b5c0fd8c-c0dc-47ca-8846-8c0181f5562a');\n",
              "          const dataTable =\n",
              "            await google.colab.kernel.invokeFunction('convertToInteractive',\n",
              "                                                     [key], {});\n",
              "          if (!dataTable) return;\n",
              "\n",
              "          const docLinkHtml = 'Like what you see? Visit the ' +\n",
              "            '<a target=\"_blank\" href=https://colab.research.google.com/notebooks/data_table.ipynb>data table notebook</a>'\n",
              "            + ' to learn more about interactive tables.';\n",
              "          element.innerHTML = '';\n",
              "          dataTable['output_type'] = 'display_data';\n",
              "          await google.colab.output.renderOutput(dataTable, element);\n",
              "          const docLink = document.createElement('div');\n",
              "          docLink.innerHTML = docLinkHtml;\n",
              "          element.appendChild(docLink);\n",
              "        }\n",
              "      </script>\n",
              "    </div>\n",
              "  </div>\n",
              "  "
            ],
            "text/plain": [
              "           dateCrawled                                               name  \\\n",
              "0  2016-03-26 17:47:46                   Peugeot_807_160_NAVTECH_ON_BOARD   \n",
              "1  2016-04-04 13:38:56         BMW_740i_4_4_Liter_HAMANN_UMBAU_Mega_Optik   \n",
              "2  2016-03-26 18:57:24                         Volkswagen_Golf_1.6_United   \n",
              "3  2016-03-12 16:58:10  Smart_smart_fortwo_coupe_softouch/F1/Klima/Pan...   \n",
              "4  2016-04-01 14:38:50  Ford_Focus_1_6_Benzin_TÜV_neu_ist_sehr_gepfleg...   \n",
              "\n",
              "   seller offerType   price   abtest vehicleType  yearOfRegistration  \\\n",
              "0  privat   Angebot  $5,000  control         bus                2004   \n",
              "1  privat   Angebot  $8,500  control   limousine                1997   \n",
              "2  privat   Angebot  $8,990     test   limousine                2009   \n",
              "3  privat   Angebot  $4,350  control  kleinwagen                2007   \n",
              "4  privat   Angebot  $1,350     test       kombi                2003   \n",
              "\n",
              "     gearbox  powerPS   model   odometer  monthOfRegistration fuelType  \\\n",
              "0    manuell      158  andere  150,000km                    3      lpg   \n",
              "1  automatik      286     7er  150,000km                    6   benzin   \n",
              "2    manuell      102    golf   70,000km                    7   benzin   \n",
              "3  automatik       71  fortwo   70,000km                    6   benzin   \n",
              "4    manuell        0   focus  150,000km                    7   benzin   \n",
              "\n",
              "        brand notRepairedDamage          dateCreated  nrOfPictures  \\\n",
              "0     peugeot              nein  2016-03-26 00:00:00             0   \n",
              "1         bmw              nein  2016-04-04 00:00:00             0   \n",
              "2  volkswagen              nein  2016-03-26 00:00:00             0   \n",
              "3       smart              nein  2016-03-12 00:00:00             0   \n",
              "4        ford              nein  2016-04-01 00:00:00             0   \n",
              "\n",
              "   postalCode             lastSeen  \n",
              "0       79588  2016-04-06 06:45:54  \n",
              "1       71034  2016-04-06 14:45:08  \n",
              "2       35394  2016-04-06 20:15:37  \n",
              "3       33729  2016-03-15 03:16:28  \n",
              "4       39218  2016-04-01 14:38:50  "
            ]
          },
          "execution_count": 16,
          "metadata": {},
          "output_type": "execute_result"
        }
      ],
      "source": [
        "import pandas as pd\n",
        "import numpy as np\n",
        "import matplotlib.pyplot as plt\n",
        "url = \"https://raw.githubusercontent.com/IsraelAde/dataquest-projects/master/Project%204-%20Exploring%20eBay%20Car%20Sales%20Data/autos.csv\"\n",
        "auta = pd.read_csv(url, encoding='Latin-1')\n",
        "auta.info()\n",
        "auta.head()\n"
      ]
    },
    {
      "cell_type": "markdown",
      "metadata": {
        "id": "PgoelLEfveTB"
      },
      "source": [
        "Dane w naszym zbiorze są albo typu `object` albo `int`.\n",
        "\n",
        "Można też zauważyć że dane są niepełne, kilka kolumn ma mniej niż 50000 rekordów\n",
        "\n",
        "Nazwy kolumn są napisane tzw. camelcasem, poniżej przypisano im nowe nazwy, zaminiono tzn camelcase na snakecase, a w niektórych jaśniej opisano co oznaczją."
      ]
    },
    {
      "cell_type": "code",
      "execution_count": null,
      "metadata": {
        "colab": {
          "base_uri": "https://localhost:8080/",
          "height": 353
        },
        "id": "dUkvfPhVvekb",
        "outputId": "3125aa49-eb6f-4b22-bd21-5caa7c867ce5"
      },
      "outputs": [
        {
          "data": {
            "text/html": [
              "\n",
              "  <div id=\"df-b528d251-94ca-4921-9880-8db72cb4a9ca\">\n",
              "    <div class=\"colab-df-container\">\n",
              "      <div>\n",
              "<style scoped>\n",
              "    .dataframe tbody tr th:only-of-type {\n",
              "        vertical-align: middle;\n",
              "    }\n",
              "\n",
              "    .dataframe tbody tr th {\n",
              "        vertical-align: top;\n",
              "    }\n",
              "\n",
              "    .dataframe thead th {\n",
              "        text-align: right;\n",
              "    }\n",
              "</style>\n",
              "<table border=\"1\" class=\"dataframe\">\n",
              "  <thead>\n",
              "    <tr style=\"text-align: right;\">\n",
              "      <th></th>\n",
              "      <th>date_crawled</th>\n",
              "      <th>name</th>\n",
              "      <th>seller</th>\n",
              "      <th>offer_type</th>\n",
              "      <th>price</th>\n",
              "      <th>ab_test</th>\n",
              "      <th>vehicle_type</th>\n",
              "      <th>registration_year</th>\n",
              "      <th>gearbox</th>\n",
              "      <th>power_ps</th>\n",
              "      <th>model</th>\n",
              "      <th>odometer</th>\n",
              "      <th>registration_month</th>\n",
              "      <th>fuel_type</th>\n",
              "      <th>brand</th>\n",
              "      <th>unrepaired_damage</th>\n",
              "      <th>ad_created</th>\n",
              "      <th>num_photos</th>\n",
              "      <th>postal_code</th>\n",
              "      <th>last_seen</th>\n",
              "    </tr>\n",
              "  </thead>\n",
              "  <tbody>\n",
              "    <tr>\n",
              "      <th>0</th>\n",
              "      <td>2016-03-26 17:47:46</td>\n",
              "      <td>Peugeot_807_160_NAVTECH_ON_BOARD</td>\n",
              "      <td>privat</td>\n",
              "      <td>Angebot</td>\n",
              "      <td>$5,000</td>\n",
              "      <td>control</td>\n",
              "      <td>bus</td>\n",
              "      <td>2004</td>\n",
              "      <td>manuell</td>\n",
              "      <td>158</td>\n",
              "      <td>andere</td>\n",
              "      <td>150,000km</td>\n",
              "      <td>3</td>\n",
              "      <td>lpg</td>\n",
              "      <td>peugeot</td>\n",
              "      <td>nein</td>\n",
              "      <td>2016-03-26 00:00:00</td>\n",
              "      <td>0</td>\n",
              "      <td>79588</td>\n",
              "      <td>2016-04-06 06:45:54</td>\n",
              "    </tr>\n",
              "    <tr>\n",
              "      <th>1</th>\n",
              "      <td>2016-04-04 13:38:56</td>\n",
              "      <td>BMW_740i_4_4_Liter_HAMANN_UMBAU_Mega_Optik</td>\n",
              "      <td>privat</td>\n",
              "      <td>Angebot</td>\n",
              "      <td>$8,500</td>\n",
              "      <td>control</td>\n",
              "      <td>limousine</td>\n",
              "      <td>1997</td>\n",
              "      <td>automatik</td>\n",
              "      <td>286</td>\n",
              "      <td>7er</td>\n",
              "      <td>150,000km</td>\n",
              "      <td>6</td>\n",
              "      <td>benzin</td>\n",
              "      <td>bmw</td>\n",
              "      <td>nein</td>\n",
              "      <td>2016-04-04 00:00:00</td>\n",
              "      <td>0</td>\n",
              "      <td>71034</td>\n",
              "      <td>2016-04-06 14:45:08</td>\n",
              "    </tr>\n",
              "    <tr>\n",
              "      <th>2</th>\n",
              "      <td>2016-03-26 18:57:24</td>\n",
              "      <td>Volkswagen_Golf_1.6_United</td>\n",
              "      <td>privat</td>\n",
              "      <td>Angebot</td>\n",
              "      <td>$8,990</td>\n",
              "      <td>test</td>\n",
              "      <td>limousine</td>\n",
              "      <td>2009</td>\n",
              "      <td>manuell</td>\n",
              "      <td>102</td>\n",
              "      <td>golf</td>\n",
              "      <td>70,000km</td>\n",
              "      <td>7</td>\n",
              "      <td>benzin</td>\n",
              "      <td>volkswagen</td>\n",
              "      <td>nein</td>\n",
              "      <td>2016-03-26 00:00:00</td>\n",
              "      <td>0</td>\n",
              "      <td>35394</td>\n",
              "      <td>2016-04-06 20:15:37</td>\n",
              "    </tr>\n",
              "    <tr>\n",
              "      <th>3</th>\n",
              "      <td>2016-03-12 16:58:10</td>\n",
              "      <td>Smart_smart_fortwo_coupe_softouch/F1/Klima/Pan...</td>\n",
              "      <td>privat</td>\n",
              "      <td>Angebot</td>\n",
              "      <td>$4,350</td>\n",
              "      <td>control</td>\n",
              "      <td>kleinwagen</td>\n",
              "      <td>2007</td>\n",
              "      <td>automatik</td>\n",
              "      <td>71</td>\n",
              "      <td>fortwo</td>\n",
              "      <td>70,000km</td>\n",
              "      <td>6</td>\n",
              "      <td>benzin</td>\n",
              "      <td>smart</td>\n",
              "      <td>nein</td>\n",
              "      <td>2016-03-12 00:00:00</td>\n",
              "      <td>0</td>\n",
              "      <td>33729</td>\n",
              "      <td>2016-03-15 03:16:28</td>\n",
              "    </tr>\n",
              "    <tr>\n",
              "      <th>4</th>\n",
              "      <td>2016-04-01 14:38:50</td>\n",
              "      <td>Ford_Focus_1_6_Benzin_TÜV_neu_ist_sehr_gepfleg...</td>\n",
              "      <td>privat</td>\n",
              "      <td>Angebot</td>\n",
              "      <td>$1,350</td>\n",
              "      <td>test</td>\n",
              "      <td>kombi</td>\n",
              "      <td>2003</td>\n",
              "      <td>manuell</td>\n",
              "      <td>0</td>\n",
              "      <td>focus</td>\n",
              "      <td>150,000km</td>\n",
              "      <td>7</td>\n",
              "      <td>benzin</td>\n",
              "      <td>ford</td>\n",
              "      <td>nein</td>\n",
              "      <td>2016-04-01 00:00:00</td>\n",
              "      <td>0</td>\n",
              "      <td>39218</td>\n",
              "      <td>2016-04-01 14:38:50</td>\n",
              "    </tr>\n",
              "  </tbody>\n",
              "</table>\n",
              "</div>\n",
              "      <button class=\"colab-df-convert\" onclick=\"convertToInteractive('df-b528d251-94ca-4921-9880-8db72cb4a9ca')\"\n",
              "              title=\"Convert this dataframe to an interactive table.\"\n",
              "              style=\"display:none;\">\n",
              "        \n",
              "  <svg xmlns=\"http://www.w3.org/2000/svg\" height=\"24px\"viewBox=\"0 0 24 24\"\n",
              "       width=\"24px\">\n",
              "    <path d=\"M0 0h24v24H0V0z\" fill=\"none\"/>\n",
              "    <path d=\"M18.56 5.44l.94 2.06.94-2.06 2.06-.94-2.06-.94-.94-2.06-.94 2.06-2.06.94zm-11 1L8.5 8.5l.94-2.06 2.06-.94-2.06-.94L8.5 2.5l-.94 2.06-2.06.94zm10 10l.94 2.06.94-2.06 2.06-.94-2.06-.94-.94-2.06-.94 2.06-2.06.94z\"/><path d=\"M17.41 7.96l-1.37-1.37c-.4-.4-.92-.59-1.43-.59-.52 0-1.04.2-1.43.59L10.3 9.45l-7.72 7.72c-.78.78-.78 2.05 0 2.83L4 21.41c.39.39.9.59 1.41.59.51 0 1.02-.2 1.41-.59l7.78-7.78 2.81-2.81c.8-.78.8-2.07 0-2.86zM5.41 20L4 18.59l7.72-7.72 1.47 1.35L5.41 20z\"/>\n",
              "  </svg>\n",
              "      </button>\n",
              "      \n",
              "  <style>\n",
              "    .colab-df-container {\n",
              "      display:flex;\n",
              "      flex-wrap:wrap;\n",
              "      gap: 12px;\n",
              "    }\n",
              "\n",
              "    .colab-df-convert {\n",
              "      background-color: #E8F0FE;\n",
              "      border: none;\n",
              "      border-radius: 50%;\n",
              "      cursor: pointer;\n",
              "      display: none;\n",
              "      fill: #1967D2;\n",
              "      height: 32px;\n",
              "      padding: 0 0 0 0;\n",
              "      width: 32px;\n",
              "    }\n",
              "\n",
              "    .colab-df-convert:hover {\n",
              "      background-color: #E2EBFA;\n",
              "      box-shadow: 0px 1px 2px rgba(60, 64, 67, 0.3), 0px 1px 3px 1px rgba(60, 64, 67, 0.15);\n",
              "      fill: #174EA6;\n",
              "    }\n",
              "\n",
              "    [theme=dark] .colab-df-convert {\n",
              "      background-color: #3B4455;\n",
              "      fill: #D2E3FC;\n",
              "    }\n",
              "\n",
              "    [theme=dark] .colab-df-convert:hover {\n",
              "      background-color: #434B5C;\n",
              "      box-shadow: 0px 1px 3px 1px rgba(0, 0, 0, 0.15);\n",
              "      filter: drop-shadow(0px 1px 2px rgba(0, 0, 0, 0.3));\n",
              "      fill: #FFFFFF;\n",
              "    }\n",
              "  </style>\n",
              "\n",
              "      <script>\n",
              "        const buttonEl =\n",
              "          document.querySelector('#df-b528d251-94ca-4921-9880-8db72cb4a9ca button.colab-df-convert');\n",
              "        buttonEl.style.display =\n",
              "          google.colab.kernel.accessAllowed ? 'block' : 'none';\n",
              "\n",
              "        async function convertToInteractive(key) {\n",
              "          const element = document.querySelector('#df-b528d251-94ca-4921-9880-8db72cb4a9ca');\n",
              "          const dataTable =\n",
              "            await google.colab.kernel.invokeFunction('convertToInteractive',\n",
              "                                                     [key], {});\n",
              "          if (!dataTable) return;\n",
              "\n",
              "          const docLinkHtml = 'Like what you see? Visit the ' +\n",
              "            '<a target=\"_blank\" href=https://colab.research.google.com/notebooks/data_table.ipynb>data table notebook</a>'\n",
              "            + ' to learn more about interactive tables.';\n",
              "          element.innerHTML = '';\n",
              "          dataTable['output_type'] = 'display_data';\n",
              "          await google.colab.output.renderOutput(dataTable, element);\n",
              "          const docLink = document.createElement('div');\n",
              "          docLink.innerHTML = docLinkHtml;\n",
              "          element.appendChild(docLink);\n",
              "        }\n",
              "      </script>\n",
              "    </div>\n",
              "  </div>\n",
              "  "
            ],
            "text/plain": [
              "          date_crawled                                               name  \\\n",
              "0  2016-03-26 17:47:46                   Peugeot_807_160_NAVTECH_ON_BOARD   \n",
              "1  2016-04-04 13:38:56         BMW_740i_4_4_Liter_HAMANN_UMBAU_Mega_Optik   \n",
              "2  2016-03-26 18:57:24                         Volkswagen_Golf_1.6_United   \n",
              "3  2016-03-12 16:58:10  Smart_smart_fortwo_coupe_softouch/F1/Klima/Pan...   \n",
              "4  2016-04-01 14:38:50  Ford_Focus_1_6_Benzin_TÜV_neu_ist_sehr_gepfleg...   \n",
              "\n",
              "   seller offer_type   price  ab_test vehicle_type  registration_year  \\\n",
              "0  privat    Angebot  $5,000  control          bus               2004   \n",
              "1  privat    Angebot  $8,500  control    limousine               1997   \n",
              "2  privat    Angebot  $8,990     test    limousine               2009   \n",
              "3  privat    Angebot  $4,350  control   kleinwagen               2007   \n",
              "4  privat    Angebot  $1,350     test        kombi               2003   \n",
              "\n",
              "     gearbox  power_ps   model   odometer  registration_month fuel_type  \\\n",
              "0    manuell       158  andere  150,000km                   3       lpg   \n",
              "1  automatik       286     7er  150,000km                   6    benzin   \n",
              "2    manuell       102    golf   70,000km                   7    benzin   \n",
              "3  automatik        71  fortwo   70,000km                   6    benzin   \n",
              "4    manuell         0   focus  150,000km                   7    benzin   \n",
              "\n",
              "        brand unrepaired_damage           ad_created  num_photos  postal_code  \\\n",
              "0     peugeot              nein  2016-03-26 00:00:00           0        79588   \n",
              "1         bmw              nein  2016-04-04 00:00:00           0        71034   \n",
              "2  volkswagen              nein  2016-03-26 00:00:00           0        35394   \n",
              "3       smart              nein  2016-03-12 00:00:00           0        33729   \n",
              "4        ford              nein  2016-04-01 00:00:00           0        39218   \n",
              "\n",
              "             last_seen  \n",
              "0  2016-04-06 06:45:54  \n",
              "1  2016-04-06 14:45:08  \n",
              "2  2016-04-06 20:15:37  \n",
              "3  2016-03-15 03:16:28  \n",
              "4  2016-04-01 14:38:50  "
            ]
          },
          "execution_count": 17,
          "metadata": {},
          "output_type": "execute_result"
        }
      ],
      "source": [
        "auta.columns = ['date_crawled', 'name', 'seller', 'offer_type', 'price', 'ab_test',\n",
        "       'vehicle_type', 'registration_year', 'gearbox', 'power_ps', 'model',\n",
        "       'odometer', 'registration_month', 'fuel_type', 'brand',\n",
        "       'unrepaired_damage', 'ad_created', 'num_photos', 'postal_code',\n",
        "       'last_seen']\n",
        "auta.head()"
      ]
    },
    {
      "cell_type": "markdown",
      "metadata": {
        "id": "32ThNo_PzFi5"
      },
      "source": [
        "#### Wstępna eksploracja i czyszczenie danych\n",
        "\n",
        "Użyto modułu `describe` oraz w parametrze `include` zawarto wszystkie kolummny, co pozwoliło przyjrzeć się danym bliżej\n"
      ]
    },
    {
      "cell_type": "code",
      "execution_count": null,
      "metadata": {
        "colab": {
          "base_uri": "https://localhost:8080/",
          "height": 471
        },
        "id": "mKZUECTezFuv",
        "outputId": "8120a915-e585-4eb5-fa49-959a7b5b4e4b"
      },
      "outputs": [
        {
          "data": {
            "text/html": [
              "\n",
              "  <div id=\"df-1dd205e9-bc7e-4abd-9fb8-9ff6a088c1ab\">\n",
              "    <div class=\"colab-df-container\">\n",
              "      <div>\n",
              "<style scoped>\n",
              "    .dataframe tbody tr th:only-of-type {\n",
              "        vertical-align: middle;\n",
              "    }\n",
              "\n",
              "    .dataframe tbody tr th {\n",
              "        vertical-align: top;\n",
              "    }\n",
              "\n",
              "    .dataframe thead th {\n",
              "        text-align: right;\n",
              "    }\n",
              "</style>\n",
              "<table border=\"1\" class=\"dataframe\">\n",
              "  <thead>\n",
              "    <tr style=\"text-align: right;\">\n",
              "      <th></th>\n",
              "      <th>date_crawled</th>\n",
              "      <th>name</th>\n",
              "      <th>seller</th>\n",
              "      <th>offer_type</th>\n",
              "      <th>price</th>\n",
              "      <th>ab_test</th>\n",
              "      <th>vehicle_type</th>\n",
              "      <th>registration_year</th>\n",
              "      <th>gearbox</th>\n",
              "      <th>power_ps</th>\n",
              "      <th>model</th>\n",
              "      <th>odometer</th>\n",
              "      <th>registration_month</th>\n",
              "      <th>fuel_type</th>\n",
              "      <th>brand</th>\n",
              "      <th>unrepaired_damage</th>\n",
              "      <th>ad_created</th>\n",
              "      <th>num_photos</th>\n",
              "      <th>postal_code</th>\n",
              "      <th>last_seen</th>\n",
              "    </tr>\n",
              "  </thead>\n",
              "  <tbody>\n",
              "    <tr>\n",
              "      <th>count</th>\n",
              "      <td>50000</td>\n",
              "      <td>50000</td>\n",
              "      <td>50000</td>\n",
              "      <td>50000</td>\n",
              "      <td>50000</td>\n",
              "      <td>50000</td>\n",
              "      <td>44905</td>\n",
              "      <td>50000.000000</td>\n",
              "      <td>47320</td>\n",
              "      <td>50000.000000</td>\n",
              "      <td>47242</td>\n",
              "      <td>50000</td>\n",
              "      <td>50000.000000</td>\n",
              "      <td>45518</td>\n",
              "      <td>50000</td>\n",
              "      <td>40171</td>\n",
              "      <td>50000</td>\n",
              "      <td>50000.0</td>\n",
              "      <td>50000.000000</td>\n",
              "      <td>50000</td>\n",
              "    </tr>\n",
              "    <tr>\n",
              "      <th>unique</th>\n",
              "      <td>48213</td>\n",
              "      <td>38754</td>\n",
              "      <td>2</td>\n",
              "      <td>2</td>\n",
              "      <td>2357</td>\n",
              "      <td>2</td>\n",
              "      <td>8</td>\n",
              "      <td>NaN</td>\n",
              "      <td>2</td>\n",
              "      <td>NaN</td>\n",
              "      <td>245</td>\n",
              "      <td>13</td>\n",
              "      <td>NaN</td>\n",
              "      <td>7</td>\n",
              "      <td>40</td>\n",
              "      <td>2</td>\n",
              "      <td>76</td>\n",
              "      <td>NaN</td>\n",
              "      <td>NaN</td>\n",
              "      <td>39481</td>\n",
              "    </tr>\n",
              "    <tr>\n",
              "      <th>top</th>\n",
              "      <td>2016-04-02 11:37:04</td>\n",
              "      <td>Ford_Fiesta</td>\n",
              "      <td>privat</td>\n",
              "      <td>Angebot</td>\n",
              "      <td>$0</td>\n",
              "      <td>test</td>\n",
              "      <td>limousine</td>\n",
              "      <td>NaN</td>\n",
              "      <td>manuell</td>\n",
              "      <td>NaN</td>\n",
              "      <td>golf</td>\n",
              "      <td>150,000km</td>\n",
              "      <td>NaN</td>\n",
              "      <td>benzin</td>\n",
              "      <td>volkswagen</td>\n",
              "      <td>nein</td>\n",
              "      <td>2016-04-03 00:00:00</td>\n",
              "      <td>NaN</td>\n",
              "      <td>NaN</td>\n",
              "      <td>2016-04-07 06:17:27</td>\n",
              "    </tr>\n",
              "    <tr>\n",
              "      <th>freq</th>\n",
              "      <td>3</td>\n",
              "      <td>78</td>\n",
              "      <td>49999</td>\n",
              "      <td>49999</td>\n",
              "      <td>1421</td>\n",
              "      <td>25756</td>\n",
              "      <td>12859</td>\n",
              "      <td>NaN</td>\n",
              "      <td>36993</td>\n",
              "      <td>NaN</td>\n",
              "      <td>4024</td>\n",
              "      <td>32424</td>\n",
              "      <td>NaN</td>\n",
              "      <td>30107</td>\n",
              "      <td>10687</td>\n",
              "      <td>35232</td>\n",
              "      <td>1946</td>\n",
              "      <td>NaN</td>\n",
              "      <td>NaN</td>\n",
              "      <td>8</td>\n",
              "    </tr>\n",
              "    <tr>\n",
              "      <th>mean</th>\n",
              "      <td>NaN</td>\n",
              "      <td>NaN</td>\n",
              "      <td>NaN</td>\n",
              "      <td>NaN</td>\n",
              "      <td>NaN</td>\n",
              "      <td>NaN</td>\n",
              "      <td>NaN</td>\n",
              "      <td>2005.073280</td>\n",
              "      <td>NaN</td>\n",
              "      <td>116.355920</td>\n",
              "      <td>NaN</td>\n",
              "      <td>NaN</td>\n",
              "      <td>5.723360</td>\n",
              "      <td>NaN</td>\n",
              "      <td>NaN</td>\n",
              "      <td>NaN</td>\n",
              "      <td>NaN</td>\n",
              "      <td>0.0</td>\n",
              "      <td>50813.627300</td>\n",
              "      <td>NaN</td>\n",
              "    </tr>\n",
              "    <tr>\n",
              "      <th>std</th>\n",
              "      <td>NaN</td>\n",
              "      <td>NaN</td>\n",
              "      <td>NaN</td>\n",
              "      <td>NaN</td>\n",
              "      <td>NaN</td>\n",
              "      <td>NaN</td>\n",
              "      <td>NaN</td>\n",
              "      <td>105.712813</td>\n",
              "      <td>NaN</td>\n",
              "      <td>209.216627</td>\n",
              "      <td>NaN</td>\n",
              "      <td>NaN</td>\n",
              "      <td>3.711984</td>\n",
              "      <td>NaN</td>\n",
              "      <td>NaN</td>\n",
              "      <td>NaN</td>\n",
              "      <td>NaN</td>\n",
              "      <td>0.0</td>\n",
              "      <td>25779.747957</td>\n",
              "      <td>NaN</td>\n",
              "    </tr>\n",
              "    <tr>\n",
              "      <th>min</th>\n",
              "      <td>NaN</td>\n",
              "      <td>NaN</td>\n",
              "      <td>NaN</td>\n",
              "      <td>NaN</td>\n",
              "      <td>NaN</td>\n",
              "      <td>NaN</td>\n",
              "      <td>NaN</td>\n",
              "      <td>1000.000000</td>\n",
              "      <td>NaN</td>\n",
              "      <td>0.000000</td>\n",
              "      <td>NaN</td>\n",
              "      <td>NaN</td>\n",
              "      <td>0.000000</td>\n",
              "      <td>NaN</td>\n",
              "      <td>NaN</td>\n",
              "      <td>NaN</td>\n",
              "      <td>NaN</td>\n",
              "      <td>0.0</td>\n",
              "      <td>1067.000000</td>\n",
              "      <td>NaN</td>\n",
              "    </tr>\n",
              "    <tr>\n",
              "      <th>25%</th>\n",
              "      <td>NaN</td>\n",
              "      <td>NaN</td>\n",
              "      <td>NaN</td>\n",
              "      <td>NaN</td>\n",
              "      <td>NaN</td>\n",
              "      <td>NaN</td>\n",
              "      <td>NaN</td>\n",
              "      <td>1999.000000</td>\n",
              "      <td>NaN</td>\n",
              "      <td>70.000000</td>\n",
              "      <td>NaN</td>\n",
              "      <td>NaN</td>\n",
              "      <td>3.000000</td>\n",
              "      <td>NaN</td>\n",
              "      <td>NaN</td>\n",
              "      <td>NaN</td>\n",
              "      <td>NaN</td>\n",
              "      <td>0.0</td>\n",
              "      <td>30451.000000</td>\n",
              "      <td>NaN</td>\n",
              "    </tr>\n",
              "    <tr>\n",
              "      <th>50%</th>\n",
              "      <td>NaN</td>\n",
              "      <td>NaN</td>\n",
              "      <td>NaN</td>\n",
              "      <td>NaN</td>\n",
              "      <td>NaN</td>\n",
              "      <td>NaN</td>\n",
              "      <td>NaN</td>\n",
              "      <td>2003.000000</td>\n",
              "      <td>NaN</td>\n",
              "      <td>105.000000</td>\n",
              "      <td>NaN</td>\n",
              "      <td>NaN</td>\n",
              "      <td>6.000000</td>\n",
              "      <td>NaN</td>\n",
              "      <td>NaN</td>\n",
              "      <td>NaN</td>\n",
              "      <td>NaN</td>\n",
              "      <td>0.0</td>\n",
              "      <td>49577.000000</td>\n",
              "      <td>NaN</td>\n",
              "    </tr>\n",
              "    <tr>\n",
              "      <th>75%</th>\n",
              "      <td>NaN</td>\n",
              "      <td>NaN</td>\n",
              "      <td>NaN</td>\n",
              "      <td>NaN</td>\n",
              "      <td>NaN</td>\n",
              "      <td>NaN</td>\n",
              "      <td>NaN</td>\n",
              "      <td>2008.000000</td>\n",
              "      <td>NaN</td>\n",
              "      <td>150.000000</td>\n",
              "      <td>NaN</td>\n",
              "      <td>NaN</td>\n",
              "      <td>9.000000</td>\n",
              "      <td>NaN</td>\n",
              "      <td>NaN</td>\n",
              "      <td>NaN</td>\n",
              "      <td>NaN</td>\n",
              "      <td>0.0</td>\n",
              "      <td>71540.000000</td>\n",
              "      <td>NaN</td>\n",
              "    </tr>\n",
              "    <tr>\n",
              "      <th>max</th>\n",
              "      <td>NaN</td>\n",
              "      <td>NaN</td>\n",
              "      <td>NaN</td>\n",
              "      <td>NaN</td>\n",
              "      <td>NaN</td>\n",
              "      <td>NaN</td>\n",
              "      <td>NaN</td>\n",
              "      <td>9999.000000</td>\n",
              "      <td>NaN</td>\n",
              "      <td>17700.000000</td>\n",
              "      <td>NaN</td>\n",
              "      <td>NaN</td>\n",
              "      <td>12.000000</td>\n",
              "      <td>NaN</td>\n",
              "      <td>NaN</td>\n",
              "      <td>NaN</td>\n",
              "      <td>NaN</td>\n",
              "      <td>0.0</td>\n",
              "      <td>99998.000000</td>\n",
              "      <td>NaN</td>\n",
              "    </tr>\n",
              "  </tbody>\n",
              "</table>\n",
              "</div>\n",
              "      <button class=\"colab-df-convert\" onclick=\"convertToInteractive('df-1dd205e9-bc7e-4abd-9fb8-9ff6a088c1ab')\"\n",
              "              title=\"Convert this dataframe to an interactive table.\"\n",
              "              style=\"display:none;\">\n",
              "        \n",
              "  <svg xmlns=\"http://www.w3.org/2000/svg\" height=\"24px\"viewBox=\"0 0 24 24\"\n",
              "       width=\"24px\">\n",
              "    <path d=\"M0 0h24v24H0V0z\" fill=\"none\"/>\n",
              "    <path d=\"M18.56 5.44l.94 2.06.94-2.06 2.06-.94-2.06-.94-.94-2.06-.94 2.06-2.06.94zm-11 1L8.5 8.5l.94-2.06 2.06-.94-2.06-.94L8.5 2.5l-.94 2.06-2.06.94zm10 10l.94 2.06.94-2.06 2.06-.94-2.06-.94-.94-2.06-.94 2.06-2.06.94z\"/><path d=\"M17.41 7.96l-1.37-1.37c-.4-.4-.92-.59-1.43-.59-.52 0-1.04.2-1.43.59L10.3 9.45l-7.72 7.72c-.78.78-.78 2.05 0 2.83L4 21.41c.39.39.9.59 1.41.59.51 0 1.02-.2 1.41-.59l7.78-7.78 2.81-2.81c.8-.78.8-2.07 0-2.86zM5.41 20L4 18.59l7.72-7.72 1.47 1.35L5.41 20z\"/>\n",
              "  </svg>\n",
              "      </button>\n",
              "      \n",
              "  <style>\n",
              "    .colab-df-container {\n",
              "      display:flex;\n",
              "      flex-wrap:wrap;\n",
              "      gap: 12px;\n",
              "    }\n",
              "\n",
              "    .colab-df-convert {\n",
              "      background-color: #E8F0FE;\n",
              "      border: none;\n",
              "      border-radius: 50%;\n",
              "      cursor: pointer;\n",
              "      display: none;\n",
              "      fill: #1967D2;\n",
              "      height: 32px;\n",
              "      padding: 0 0 0 0;\n",
              "      width: 32px;\n",
              "    }\n",
              "\n",
              "    .colab-df-convert:hover {\n",
              "      background-color: #E2EBFA;\n",
              "      box-shadow: 0px 1px 2px rgba(60, 64, 67, 0.3), 0px 1px 3px 1px rgba(60, 64, 67, 0.15);\n",
              "      fill: #174EA6;\n",
              "    }\n",
              "\n",
              "    [theme=dark] .colab-df-convert {\n",
              "      background-color: #3B4455;\n",
              "      fill: #D2E3FC;\n",
              "    }\n",
              "\n",
              "    [theme=dark] .colab-df-convert:hover {\n",
              "      background-color: #434B5C;\n",
              "      box-shadow: 0px 1px 3px 1px rgba(0, 0, 0, 0.15);\n",
              "      filter: drop-shadow(0px 1px 2px rgba(0, 0, 0, 0.3));\n",
              "      fill: #FFFFFF;\n",
              "    }\n",
              "  </style>\n",
              "\n",
              "      <script>\n",
              "        const buttonEl =\n",
              "          document.querySelector('#df-1dd205e9-bc7e-4abd-9fb8-9ff6a088c1ab button.colab-df-convert');\n",
              "        buttonEl.style.display =\n",
              "          google.colab.kernel.accessAllowed ? 'block' : 'none';\n",
              "\n",
              "        async function convertToInteractive(key) {\n",
              "          const element = document.querySelector('#df-1dd205e9-bc7e-4abd-9fb8-9ff6a088c1ab');\n",
              "          const dataTable =\n",
              "            await google.colab.kernel.invokeFunction('convertToInteractive',\n",
              "                                                     [key], {});\n",
              "          if (!dataTable) return;\n",
              "\n",
              "          const docLinkHtml = 'Like what you see? Visit the ' +\n",
              "            '<a target=\"_blank\" href=https://colab.research.google.com/notebooks/data_table.ipynb>data table notebook</a>'\n",
              "            + ' to learn more about interactive tables.';\n",
              "          element.innerHTML = '';\n",
              "          dataTable['output_type'] = 'display_data';\n",
              "          await google.colab.output.renderOutput(dataTable, element);\n",
              "          const docLink = document.createElement('div');\n",
              "          docLink.innerHTML = docLinkHtml;\n",
              "          element.appendChild(docLink);\n",
              "        }\n",
              "      </script>\n",
              "    </div>\n",
              "  </div>\n",
              "  "
            ],
            "text/plain": [
              "               date_crawled         name  seller offer_type  price ab_test  \\\n",
              "count                 50000        50000   50000      50000  50000   50000   \n",
              "unique                48213        38754       2          2   2357       2   \n",
              "top     2016-04-02 11:37:04  Ford_Fiesta  privat    Angebot     $0    test   \n",
              "freq                      3           78   49999      49999   1421   25756   \n",
              "mean                    NaN          NaN     NaN        NaN    NaN     NaN   \n",
              "std                     NaN          NaN     NaN        NaN    NaN     NaN   \n",
              "min                     NaN          NaN     NaN        NaN    NaN     NaN   \n",
              "25%                     NaN          NaN     NaN        NaN    NaN     NaN   \n",
              "50%                     NaN          NaN     NaN        NaN    NaN     NaN   \n",
              "75%                     NaN          NaN     NaN        NaN    NaN     NaN   \n",
              "max                     NaN          NaN     NaN        NaN    NaN     NaN   \n",
              "\n",
              "       vehicle_type  registration_year  gearbox      power_ps  model  \\\n",
              "count         44905       50000.000000    47320  50000.000000  47242   \n",
              "unique            8                NaN        2           NaN    245   \n",
              "top       limousine                NaN  manuell           NaN   golf   \n",
              "freq          12859                NaN    36993           NaN   4024   \n",
              "mean            NaN        2005.073280      NaN    116.355920    NaN   \n",
              "std             NaN         105.712813      NaN    209.216627    NaN   \n",
              "min             NaN        1000.000000      NaN      0.000000    NaN   \n",
              "25%             NaN        1999.000000      NaN     70.000000    NaN   \n",
              "50%             NaN        2003.000000      NaN    105.000000    NaN   \n",
              "75%             NaN        2008.000000      NaN    150.000000    NaN   \n",
              "max             NaN        9999.000000      NaN  17700.000000    NaN   \n",
              "\n",
              "         odometer  registration_month fuel_type       brand unrepaired_damage  \\\n",
              "count       50000        50000.000000     45518       50000             40171   \n",
              "unique         13                 NaN         7          40                 2   \n",
              "top     150,000km                 NaN    benzin  volkswagen              nein   \n",
              "freq        32424                 NaN     30107       10687             35232   \n",
              "mean          NaN            5.723360       NaN         NaN               NaN   \n",
              "std           NaN            3.711984       NaN         NaN               NaN   \n",
              "min           NaN            0.000000       NaN         NaN               NaN   \n",
              "25%           NaN            3.000000       NaN         NaN               NaN   \n",
              "50%           NaN            6.000000       NaN         NaN               NaN   \n",
              "75%           NaN            9.000000       NaN         NaN               NaN   \n",
              "max           NaN           12.000000       NaN         NaN               NaN   \n",
              "\n",
              "                 ad_created  num_photos   postal_code            last_seen  \n",
              "count                 50000     50000.0  50000.000000                50000  \n",
              "unique                   76         NaN           NaN                39481  \n",
              "top     2016-04-03 00:00:00         NaN           NaN  2016-04-07 06:17:27  \n",
              "freq                   1946         NaN           NaN                    8  \n",
              "mean                    NaN         0.0  50813.627300                  NaN  \n",
              "std                     NaN         0.0  25779.747957                  NaN  \n",
              "min                     NaN         0.0   1067.000000                  NaN  \n",
              "25%                     NaN         0.0  30451.000000                  NaN  \n",
              "50%                     NaN         0.0  49577.000000                  NaN  \n",
              "75%                     NaN         0.0  71540.000000                  NaN  \n",
              "max                     NaN         0.0  99998.000000                  NaN  "
            ]
          },
          "execution_count": 18,
          "metadata": {},
          "output_type": "execute_result"
        }
      ],
      "source": [
        "auta.describe(include='all')"
      ]
    },
    {
      "cell_type": "markdown",
      "metadata": {
        "id": "zcUu9ZiQ0c16"
      },
      "source": [
        "**top** opisuje najczęsciej występujący element, a **freq** ile razy pojawia się w zbiorze danych.\n",
        "\n",
        "Można zauważyć że prawie wszystkie wartości w kolumnach `seller` oraz `offer_type` są identyczne. Dodatkowo kolumna `num_photos` zdaje się być cała wypełniona zerami. Poniżej dokładnie to sprawdzono modułem `value_counts()`"
      ]
    },
    {
      "cell_type": "code",
      "execution_count": null,
      "metadata": {
        "colab": {
          "base_uri": "https://localhost:8080/"
        },
        "id": "vTXH7mXE1RD9",
        "outputId": "cc2d81c7-d95f-46a4-ebab-5b03d2481fc2"
      },
      "outputs": [
        {
          "data": {
            "text/plain": [
              "0    50000\n",
              "Name: num_photos, dtype: int64"
            ]
          },
          "execution_count": 19,
          "metadata": {},
          "output_type": "execute_result"
        }
      ],
      "source": [
        "auta[\"num_photos\"].value_counts()"
      ]
    },
    {
      "cell_type": "markdown",
      "metadata": {
        "id": "CFx2jWJm1eBt"
      },
      "source": [
        "Teraz mając pewność można używając modułu `drop` usunąć z naszego zbioru te 3 kolumny, nie przydadzą się one w analizie. (`axis=1` przekzauje bibliotece pandas aby zostay usunięte całe kolumny)"
      ]
    },
    {
      "cell_type": "code",
      "execution_count": null,
      "metadata": {
        "id": "beCPv2sf1pcJ"
      },
      "outputs": [],
      "source": [
        "auta = auta.drop([\"num_photos\", \"seller\", \"offer_type\"], axis=1)"
      ]
    },
    {
      "cell_type": "markdown",
      "metadata": {
        "id": "KYt5jRXz2UxG"
      },
      "source": [
        "Zauważono również, że kolumny `price` i `odometer` zawierają dane liczbowe z dodatkowymi znakami nie będącymi liczbami. Użyto do tego modułu `str.replace` (zamienia on 1 argument z 2). W celu przeprowadznaia analiz, należy zamienic ten typ danych na `int`. Dodatkowo aby dane były bardziej czytelene zmaieniono `odometer` na `odometer_km`.\n"
      ]
    },
    {
      "cell_type": "code",
      "execution_count": null,
      "metadata": {
        "colab": {
          "base_uri": "https://localhost:8080/"
        },
        "id": "czyFGlYs3qVm",
        "outputId": "40fbae4f-01bb-43ab-aeb3-24c2baba6c4e"
      },
      "outputs": [
        {
          "name": "stderr",
          "output_type": "stream",
          "text": [
            "<ipython-input-21-238eb7eb6797>:1: FutureWarning: The default value of regex will change from True to False in a future version. In addition, single character regular expressions will *not* be treated as literal strings when regex=True.\n",
            "  auta[\"price\"] = (auta[\"price\"]\n"
          ]
        }
      ],
      "source": [
        "auta[\"price\"] = (auta[\"price\"]\n",
        "                          .str.replace(\"$\",\"\")\n",
        "                          .str.replace(\",\",\"\")\n",
        "                          .astype(int)\n",
        "                          )\n",
        "auta[\"odometer\"] = (auta[\"odometer\"]\n",
        "                             .str.replace(\"km\",\"\")\n",
        "                             .str.replace(\",\",\"\")\n",
        "                             .astype(int)\n",
        "                             )\n",
        "auta.rename({\"odometer\": \"odometer_km\"}, axis=1, inplace=True)\n",
        "\n"
      ]
    },
    {
      "cell_type": "markdown",
      "metadata": {
        "id": "gxen5clw4zJi"
      },
      "source": [
        "\n",
        "\n",
        "---\n",
        "\n",
        "\n",
        "**Należy zauwżyć że powyższy kod zadziała tylko przy 1 uruchomieniu, gdyż później dane zostaną nadpiasne i** `.str` **nie zadziała na danych typu** `int`\n",
        "\n",
        "---\n",
        "\n"
      ]
    },
    {
      "cell_type": "code",
      "execution_count": null,
      "metadata": {
        "colab": {
          "base_uri": "https://localhost:8080/"
        },
        "id": "kEigM46E4yqS",
        "outputId": "0e381def-31a5-487a-ea0a-7161e0764768"
      },
      "outputs": [
        {
          "data": {
            "text/plain": [
              "0    5000\n",
              "1    8500\n",
              "2    8990\n",
              "3    4350\n",
              "4    1350\n",
              "Name: price, dtype: int64"
            ]
          },
          "execution_count": 22,
          "metadata": {},
          "output_type": "execute_result"
        }
      ],
      "source": [
        "auta[\"price\"].head()"
      ]
    },
    {
      "cell_type": "code",
      "execution_count": null,
      "metadata": {
        "colab": {
          "base_uri": "https://localhost:8080/"
        },
        "id": "OweD6fTM452y",
        "outputId": "f1512515-17a2-4d3a-b86c-de83677b9d99"
      },
      "outputs": [
        {
          "data": {
            "text/plain": [
              "0    150000\n",
              "1    150000\n",
              "2     70000\n",
              "3     70000\n",
              "4    150000\n",
              "Name: odometer_km, dtype: int64"
            ]
          },
          "execution_count": 23,
          "metadata": {},
          "output_type": "execute_result"
        }
      ],
      "source": [
        "auta[\"odometer_km\"].head()"
      ]
    },
    {
      "cell_type": "markdown",
      "metadata": {
        "id": "M-8MsQqv5ZTC"
      },
      "source": [
        "#### Dalsza ekspoloracja `Odometer_km` i `Price`"
      ]
    },
    {
      "cell_type": "code",
      "execution_count": null,
      "metadata": {
        "colab": {
          "base_uri": "https://localhost:8080/"
        },
        "id": "uKWHzgt75UlQ",
        "outputId": "cde6f569-c940-4837-d791-d2b0a003363c"
      },
      "outputs": [
        {
          "data": {
            "text/plain": [
              "150000    32424\n",
              "125000     5170\n",
              "100000     2169\n",
              "90000      1757\n",
              "80000      1436\n",
              "70000      1230\n",
              "60000      1164\n",
              "50000      1027\n",
              "5000        967\n",
              "40000       819\n",
              "30000       789\n",
              "20000       784\n",
              "10000       264\n",
              "Name: odometer_km, dtype: int64"
            ]
          },
          "execution_count": 24,
          "metadata": {},
          "output_type": "execute_result"
        }
      ],
      "source": [
        "auta[\"odometer_km\"].value_counts()"
      ]
    },
    {
      "cell_type": "markdown",
      "metadata": {
        "id": "vz49QsKZGZUA"
      },
      "source": [
        "Taki obraz danych pokazuje że uzytkownicy wystawiając auta na eBayu musieli zaokrąglić przebieg do pewnych wartości. Prawdopodobnie wybór jest narzucony przez stornę. Widać tu również to żę więcej aut jest z większym przebiegiem."
      ]
    },
    {
      "cell_type": "markdown",
      "metadata": {
        "id": "tc6InHpSG0ia"
      },
      "source": [
        "Spojrzono również na **price**"
      ]
    },
    {
      "cell_type": "code",
      "execution_count": null,
      "metadata": {
        "colab": {
          "base_uri": "https://localhost:8080/"
        },
        "id": "GamEsPezGoXA",
        "outputId": "34876a87-e8aa-48e9-b9a4-8bcd5e347ad4"
      },
      "outputs": [
        {
          "name": "stdout",
          "output_type": "stream",
          "text": [
            "(2357,)\n",
            "count    5.000000e+04\n",
            "mean     9.840044e+03\n",
            "std      4.811044e+05\n",
            "min      0.000000e+00\n",
            "25%      1.100000e+03\n",
            "50%      2.950000e+03\n",
            "75%      7.200000e+03\n",
            "max      1.000000e+08\n",
            "Name: price, dtype: float64\n"
          ]
        },
        {
          "data": {
            "text/plain": [
              "0       1421\n",
              "500      781\n",
              "1500     734\n",
              "2500     643\n",
              "1000     639\n",
              "1200     639\n",
              "600      531\n",
              "800      498\n",
              "3500     498\n",
              "2000     460\n",
              "999      434\n",
              "750      433\n",
              "900      420\n",
              "650      419\n",
              "850      410\n",
              "700      395\n",
              "4500     394\n",
              "300      384\n",
              "2200     382\n",
              "950      379\n",
              "Name: price, dtype: int64"
            ]
          },
          "execution_count": 25,
          "metadata": {},
          "output_type": "execute_result"
        }
      ],
      "source": [
        "print(auta[\"price\"].unique().shape)\n",
        "print(auta[\"price\"].describe())\n",
        "auta[\"price\"].value_counts().head(20)"
      ]
    },
    {
      "cell_type": "markdown",
      "metadata": {
        "id": "YVcpyNyOI6QA"
      },
      "source": [
        "`unique().shape()` ujawnił liczbe unikalnych wartości cen aut w ilości 2357, wiąże sie to pradopodobnie z zaokrąglaniem kwot przez użytkowników. `describe() `ukazao podstawowe statystyki tej zmiennej, uwagę należy zwrócić na maksymalna wartość która wynosi 100000000 dolarów, to bardziej rozpatrzono w kolejnych obliczeniach. `value_couts()` ukazało że 1421 aut miało cene 0 dolarów, jest to ok 2% całego zbioru danych, można rozważyć usuniecie tych wierszy."
      ]
    },
    {
      "cell_type": "markdown",
      "metadata": {
        "id": "NMn8oThWLmg_"
      },
      "source": [
        "Przyjrzano się 20 najdroższym oraz najtańszym cenom za auto oraz ilości takich aut w zbiorze danych."
      ]
    },
    {
      "cell_type": "code",
      "execution_count": null,
      "metadata": {
        "colab": {
          "base_uri": "https://localhost:8080/"
        },
        "id": "eDgE4L0VLmOA",
        "outputId": "61e8ce87-a662-4d76-e451-0c197715d1db"
      },
      "outputs": [
        {
          "data": {
            "text/plain": [
              "99999999    1\n",
              "27322222    1\n",
              "12345678    3\n",
              "11111111    2\n",
              "10000000    1\n",
              "3890000     1\n",
              "1300000     1\n",
              "1234566     1\n",
              "999999      2\n",
              "999990      1\n",
              "350000      1\n",
              "345000      1\n",
              "299000      1\n",
              "295000      1\n",
              "265000      1\n",
              "259000      1\n",
              "250000      1\n",
              "220000      1\n",
              "198000      1\n",
              "197000      1\n",
              "Name: price, dtype: int64"
            ]
          },
          "execution_count": 26,
          "metadata": {},
          "output_type": "execute_result"
        }
      ],
      "source": [
        "auta['price'].value_counts().sort_index(ascending = False).head(20) #ascending = Flase, sortuje dane od największych do najmnijeszych"
      ]
    },
    {
      "cell_type": "code",
      "execution_count": null,
      "metadata": {
        "colab": {
          "base_uri": "https://localhost:8080/"
        },
        "id": "xJdlkWuTMECm",
        "outputId": "6b47c9fd-5439-4935-b173-782d9f373a35"
      },
      "outputs": [
        {
          "data": {
            "text/plain": [
              "0     1421\n",
              "1      156\n",
              "2        3\n",
              "3        1\n",
              "5        2\n",
              "8        1\n",
              "9        1\n",
              "10       7\n",
              "11       2\n",
              "12       3\n",
              "13       2\n",
              "14       1\n",
              "15       2\n",
              "17       3\n",
              "18       1\n",
              "Name: price, dtype: int64"
            ]
          },
          "execution_count": 27,
          "metadata": {},
          "output_type": "execute_result"
        }
      ],
      "source": [
        "auta['price'].value_counts().sort_index(ascending = True).head(15) #ascending = True, sortuje dane od najmnijeszych do największych"
      ]
    },
    {
      "cell_type": "markdown",
      "metadata": {
        "id": "uV5HbTJGNW_7"
      },
      "source": [
        "Istnieje spory skok z ceny 350000 do 999999, a powyżej 999999 jest tylko 13 samochodów. Wyczyszczono zbiór danych powyżej 350000 dolarów.\n",
        "\n",
        "Liczba aut wystawionych za kwote poniżej 18 dolarów, nie jest może kolosalna, ale dla bezpieczeństwa powinno się te dane zostawić, mając na uwadze że eBay to serwis aukcyjny."
      ]
    },
    {
      "cell_type": "code",
      "execution_count": null,
      "metadata": {
        "colab": {
          "base_uri": "https://localhost:8080/"
        },
        "id": "Dd-zG8-0gsJy",
        "outputId": "88bf1b9d-d56a-4a29-b99d-987fcd52d5c0"
      },
      "outputs": [
        {
          "data": {
            "text/plain": [
              "count     48565.000000\n",
              "mean       5888.935591\n",
              "std        9059.854754\n",
              "min           1.000000\n",
              "25%        1200.000000\n",
              "50%        3000.000000\n",
              "75%        7490.000000\n",
              "max      350000.000000\n",
              "Name: price, dtype: float64"
            ]
          },
          "execution_count": 28,
          "metadata": {},
          "output_type": "execute_result"
        }
      ],
      "source": [
        "auta = auta[auta['price'].between(1, 350000)]\n",
        "auta['price'].describe()"
      ]
    },
    {
      "cell_type": "markdown",
      "metadata": {
        "id": "xQypLB5Ig9AX"
      },
      "source": [
        "#### Eksploracja danych związanych z czasem"
      ]
    },
    {
      "cell_type": "markdown",
      "metadata": {
        "id": "lRnlIPlVhGYE"
      },
      "source": [
        "W analizowanym zbiorze danych jest kilka kolumn odncoszących się do czasu:\n",
        "\n",
        "* `date_crawled`\n",
        "* `last_seen`\n",
        "* `ad_created`\n",
        "* `registration_month`\n",
        "* `registration_year`\n",
        "\n",
        "Trzy pierwsze są typu `string`, w calu ich analizy należy zamienić je na dane numeryczne.\n",
        "\n",
        "Podgląd danych typu `string`:\n"
      ]
    },
    {
      "cell_type": "code",
      "execution_count": null,
      "metadata": {
        "colab": {
          "base_uri": "https://localhost:8080/",
          "height": 359
        },
        "id": "4tEUQgjBiS_l",
        "outputId": "17018bc8-36f8-4fea-f736-1da916d13048"
      },
      "outputs": [
        {
          "data": {
            "text/html": [
              "\n",
              "  <div id=\"df-85ec1233-255f-4529-b47b-81bdf04f9974\">\n",
              "    <div class=\"colab-df-container\">\n",
              "      <div>\n",
              "<style scoped>\n",
              "    .dataframe tbody tr th:only-of-type {\n",
              "        vertical-align: middle;\n",
              "    }\n",
              "\n",
              "    .dataframe tbody tr th {\n",
              "        vertical-align: top;\n",
              "    }\n",
              "\n",
              "    .dataframe thead th {\n",
              "        text-align: right;\n",
              "    }\n",
              "</style>\n",
              "<table border=\"1\" class=\"dataframe\">\n",
              "  <thead>\n",
              "    <tr style=\"text-align: right;\">\n",
              "      <th></th>\n",
              "      <th>date_crawled</th>\n",
              "      <th>ad_created</th>\n",
              "      <th>last_seen</th>\n",
              "    </tr>\n",
              "  </thead>\n",
              "  <tbody>\n",
              "    <tr>\n",
              "      <th>0</th>\n",
              "      <td>2016-03-26 17:47:46</td>\n",
              "      <td>2016-03-26 00:00:00</td>\n",
              "      <td>2016-04-06 06:45:54</td>\n",
              "    </tr>\n",
              "    <tr>\n",
              "      <th>1</th>\n",
              "      <td>2016-04-04 13:38:56</td>\n",
              "      <td>2016-04-04 00:00:00</td>\n",
              "      <td>2016-04-06 14:45:08</td>\n",
              "    </tr>\n",
              "    <tr>\n",
              "      <th>2</th>\n",
              "      <td>2016-03-26 18:57:24</td>\n",
              "      <td>2016-03-26 00:00:00</td>\n",
              "      <td>2016-04-06 20:15:37</td>\n",
              "    </tr>\n",
              "    <tr>\n",
              "      <th>3</th>\n",
              "      <td>2016-03-12 16:58:10</td>\n",
              "      <td>2016-03-12 00:00:00</td>\n",
              "      <td>2016-03-15 03:16:28</td>\n",
              "    </tr>\n",
              "    <tr>\n",
              "      <th>4</th>\n",
              "      <td>2016-04-01 14:38:50</td>\n",
              "      <td>2016-04-01 00:00:00</td>\n",
              "      <td>2016-04-01 14:38:50</td>\n",
              "    </tr>\n",
              "    <tr>\n",
              "      <th>5</th>\n",
              "      <td>2016-03-21 13:47:45</td>\n",
              "      <td>2016-03-21 00:00:00</td>\n",
              "      <td>2016-04-06 09:45:21</td>\n",
              "    </tr>\n",
              "    <tr>\n",
              "      <th>6</th>\n",
              "      <td>2016-03-20 17:55:21</td>\n",
              "      <td>2016-03-20 00:00:00</td>\n",
              "      <td>2016-03-23 02:48:59</td>\n",
              "    </tr>\n",
              "    <tr>\n",
              "      <th>7</th>\n",
              "      <td>2016-03-16 18:55:19</td>\n",
              "      <td>2016-03-16 00:00:00</td>\n",
              "      <td>2016-04-07 03:17:32</td>\n",
              "    </tr>\n",
              "    <tr>\n",
              "      <th>8</th>\n",
              "      <td>2016-03-22 16:51:34</td>\n",
              "      <td>2016-03-22 00:00:00</td>\n",
              "      <td>2016-03-26 18:18:10</td>\n",
              "    </tr>\n",
              "    <tr>\n",
              "      <th>9</th>\n",
              "      <td>2016-03-16 13:47:02</td>\n",
              "      <td>2016-03-16 00:00:00</td>\n",
              "      <td>2016-04-06 10:46:35</td>\n",
              "    </tr>\n",
              "  </tbody>\n",
              "</table>\n",
              "</div>\n",
              "      <button class=\"colab-df-convert\" onclick=\"convertToInteractive('df-85ec1233-255f-4529-b47b-81bdf04f9974')\"\n",
              "              title=\"Convert this dataframe to an interactive table.\"\n",
              "              style=\"display:none;\">\n",
              "        \n",
              "  <svg xmlns=\"http://www.w3.org/2000/svg\" height=\"24px\"viewBox=\"0 0 24 24\"\n",
              "       width=\"24px\">\n",
              "    <path d=\"M0 0h24v24H0V0z\" fill=\"none\"/>\n",
              "    <path d=\"M18.56 5.44l.94 2.06.94-2.06 2.06-.94-2.06-.94-.94-2.06-.94 2.06-2.06.94zm-11 1L8.5 8.5l.94-2.06 2.06-.94-2.06-.94L8.5 2.5l-.94 2.06-2.06.94zm10 10l.94 2.06.94-2.06 2.06-.94-2.06-.94-.94-2.06-.94 2.06-2.06.94z\"/><path d=\"M17.41 7.96l-1.37-1.37c-.4-.4-.92-.59-1.43-.59-.52 0-1.04.2-1.43.59L10.3 9.45l-7.72 7.72c-.78.78-.78 2.05 0 2.83L4 21.41c.39.39.9.59 1.41.59.51 0 1.02-.2 1.41-.59l7.78-7.78 2.81-2.81c.8-.78.8-2.07 0-2.86zM5.41 20L4 18.59l7.72-7.72 1.47 1.35L5.41 20z\"/>\n",
              "  </svg>\n",
              "      </button>\n",
              "      \n",
              "  <style>\n",
              "    .colab-df-container {\n",
              "      display:flex;\n",
              "      flex-wrap:wrap;\n",
              "      gap: 12px;\n",
              "    }\n",
              "\n",
              "    .colab-df-convert {\n",
              "      background-color: #E8F0FE;\n",
              "      border: none;\n",
              "      border-radius: 50%;\n",
              "      cursor: pointer;\n",
              "      display: none;\n",
              "      fill: #1967D2;\n",
              "      height: 32px;\n",
              "      padding: 0 0 0 0;\n",
              "      width: 32px;\n",
              "    }\n",
              "\n",
              "    .colab-df-convert:hover {\n",
              "      background-color: #E2EBFA;\n",
              "      box-shadow: 0px 1px 2px rgba(60, 64, 67, 0.3), 0px 1px 3px 1px rgba(60, 64, 67, 0.15);\n",
              "      fill: #174EA6;\n",
              "    }\n",
              "\n",
              "    [theme=dark] .colab-df-convert {\n",
              "      background-color: #3B4455;\n",
              "      fill: #D2E3FC;\n",
              "    }\n",
              "\n",
              "    [theme=dark] .colab-df-convert:hover {\n",
              "      background-color: #434B5C;\n",
              "      box-shadow: 0px 1px 3px 1px rgba(0, 0, 0, 0.15);\n",
              "      filter: drop-shadow(0px 1px 2px rgba(0, 0, 0, 0.3));\n",
              "      fill: #FFFFFF;\n",
              "    }\n",
              "  </style>\n",
              "\n",
              "      <script>\n",
              "        const buttonEl =\n",
              "          document.querySelector('#df-85ec1233-255f-4529-b47b-81bdf04f9974 button.colab-df-convert');\n",
              "        buttonEl.style.display =\n",
              "          google.colab.kernel.accessAllowed ? 'block' : 'none';\n",
              "\n",
              "        async function convertToInteractive(key) {\n",
              "          const element = document.querySelector('#df-85ec1233-255f-4529-b47b-81bdf04f9974');\n",
              "          const dataTable =\n",
              "            await google.colab.kernel.invokeFunction('convertToInteractive',\n",
              "                                                     [key], {});\n",
              "          if (!dataTable) return;\n",
              "\n",
              "          const docLinkHtml = 'Like what you see? Visit the ' +\n",
              "            '<a target=\"_blank\" href=https://colab.research.google.com/notebooks/data_table.ipynb>data table notebook</a>'\n",
              "            + ' to learn more about interactive tables.';\n",
              "          element.innerHTML = '';\n",
              "          dataTable['output_type'] = 'display_data';\n",
              "          await google.colab.output.renderOutput(dataTable, element);\n",
              "          const docLink = document.createElement('div');\n",
              "          docLink.innerHTML = docLinkHtml;\n",
              "          element.appendChild(docLink);\n",
              "        }\n",
              "      </script>\n",
              "    </div>\n",
              "  </div>\n",
              "  "
            ],
            "text/plain": [
              "          date_crawled           ad_created            last_seen\n",
              "0  2016-03-26 17:47:46  2016-03-26 00:00:00  2016-04-06 06:45:54\n",
              "1  2016-04-04 13:38:56  2016-04-04 00:00:00  2016-04-06 14:45:08\n",
              "2  2016-03-26 18:57:24  2016-03-26 00:00:00  2016-04-06 20:15:37\n",
              "3  2016-03-12 16:58:10  2016-03-12 00:00:00  2016-03-15 03:16:28\n",
              "4  2016-04-01 14:38:50  2016-04-01 00:00:00  2016-04-01 14:38:50\n",
              "5  2016-03-21 13:47:45  2016-03-21 00:00:00  2016-04-06 09:45:21\n",
              "6  2016-03-20 17:55:21  2016-03-20 00:00:00  2016-03-23 02:48:59\n",
              "7  2016-03-16 18:55:19  2016-03-16 00:00:00  2016-04-07 03:17:32\n",
              "8  2016-03-22 16:51:34  2016-03-22 00:00:00  2016-03-26 18:18:10\n",
              "9  2016-03-16 13:47:02  2016-03-16 00:00:00  2016-04-06 10:46:35"
            ]
          },
          "execution_count": 29,
          "metadata": {},
          "output_type": "execute_result"
        }
      ],
      "source": [
        "auta[['date_crawled','ad_created','last_seen']][0:10]"
      ]
    },
    {
      "cell_type": "markdown",
      "metadata": {
        "id": "dfoEha79jnNJ"
      },
      "source": [
        "Do analiz na potrzebyu projektu potrzebna jest wyłącznie data (bez godziny). Jak można zauważyć po danych, datę określa 10 pierwszych znaków danego stringa.\n",
        "\n",
        "\n",
        "Aby nie tracić brakujących wartości w rozkładzie oraz aby wyświetlić udział procentowy, a nie liczność użyto: `.value_counts(normalize=True, dropna=False) ` a w celu ułożenia danych od najwcześniejszych do najpóźniejszych użyto `.sort_index()`"
      ]
    },
    {
      "cell_type": "code",
      "execution_count": null,
      "metadata": {
        "colab": {
          "base_uri": "https://localhost:8080/"
        },
        "id": "UaIr-4Qgjnzn",
        "outputId": "8c418ecc-72d3-436d-95cf-a852c1d165f4"
      },
      "outputs": [
        {
          "data": {
            "text/plain": [
              "2016-03-05    0.025327\n",
              "2016-03-06    0.014043\n",
              "2016-03-07    0.036014\n",
              "2016-03-08    0.033296\n",
              "2016-03-09    0.033090\n",
              "2016-03-10    0.032184\n",
              "2016-03-11    0.032575\n",
              "2016-03-12    0.036920\n",
              "2016-03-13    0.015670\n",
              "2016-03-14    0.036549\n",
              "2016-03-15    0.034284\n",
              "2016-03-16    0.029610\n",
              "2016-03-17    0.031628\n",
              "2016-03-18    0.012911\n",
              "2016-03-19    0.034778\n",
              "2016-03-20    0.037887\n",
              "2016-03-21    0.037373\n",
              "2016-03-22    0.032987\n",
              "2016-03-23    0.032225\n",
              "2016-03-24    0.029342\n",
              "2016-03-25    0.031607\n",
              "2016-03-26    0.032204\n",
              "2016-03-27    0.031092\n",
              "2016-03-28    0.034860\n",
              "2016-03-29    0.034099\n",
              "2016-03-30    0.033687\n",
              "2016-03-31    0.031834\n",
              "2016-04-01    0.033687\n",
              "2016-04-02    0.035478\n",
              "2016-04-03    0.038608\n",
              "2016-04-04    0.036487\n",
              "2016-04-05    0.013096\n",
              "2016-04-06    0.003171\n",
              "2016-04-07    0.001400\n",
              "Name: date_crawled, dtype: float64"
            ]
          },
          "execution_count": 32,
          "metadata": {},
          "output_type": "execute_result"
        }
      ],
      "source": [
        "(auta['date_crawled']\n",
        "        .str[:10]\n",
        "        .value_counts(normalize = True, dropna = False)\n",
        "        .sort_index()\n",
        "        )"
      ]
    },
    {
      "cell_type": "markdown",
      "metadata": {
        "id": "Up2KOrpGsift"
      },
      "source": [
        "Można zauważyć, że rozkład jest jednolity"
      ]
    },
    {
      "cell_type": "code",
      "execution_count": null,
      "metadata": {
        "colab": {
          "base_uri": "https://localhost:8080/"
        },
        "id": "30SqKM7wm6tH",
        "outputId": "c654645c-35a6-48fa-9c36-1cc9affdc27a"
      },
      "outputs": [
        {
          "data": {
            "text/plain": [
              "2015-06-11    0.000021\n",
              "2015-08-10    0.000021\n",
              "2015-09-09    0.000021\n",
              "2015-11-10    0.000021\n",
              "2015-12-05    0.000021\n",
              "                ...   \n",
              "2016-04-03    0.038855\n",
              "2016-04-04    0.036858\n",
              "2016-04-05    0.011819\n",
              "2016-04-06    0.003253\n",
              "2016-04-07    0.001256\n",
              "Name: ad_created, Length: 76, dtype: float64"
            ]
          },
          "execution_count": 38,
          "metadata": {},
          "output_type": "execute_result"
        }
      ],
      "source": [
        "(auta['ad_created']\n",
        "        .str[:10]\n",
        "        .value_counts(normalize = True, dropna = False)\n",
        "        .sort_index()\n",
        "        )"
      ]
    },
    {
      "cell_type": "markdown",
      "metadata": {
        "id": "51kwR94ztbwK"
      },
      "source": [
        "Można zauważyć, że większość dat utworzonia aukcji miały podobne ramy czasowe jak daty umieszczenia na stronie. Niższa częstotliwość aukcji tworzonych przed tymi datami jest zrozumiała, ponieważ po zakończeniu sprzedaży aukcje mogą zostać usunięte i nie będą pojawiać się w witrynie przed datami zarejestrowanymi."
      ]
    },
    {
      "cell_type": "code",
      "execution_count": null,
      "metadata": {
        "colab": {
          "base_uri": "https://localhost:8080/"
        },
        "id": "VhKnzFzwmf6I",
        "outputId": "78b0f388-6ab2-42e2-e53b-ad52add0e182"
      },
      "outputs": [
        {
          "data": {
            "text/plain": [
              "2016-03-05    0.001071\n",
              "2016-03-06    0.004324\n",
              "2016-03-07    0.005395\n",
              "2016-03-08    0.007413\n",
              "2016-03-09    0.009595\n",
              "2016-03-10    0.010666\n",
              "2016-03-11    0.012375\n",
              "2016-03-12    0.023783\n",
              "2016-03-13    0.008895\n",
              "2016-03-14    0.012602\n",
              "2016-03-15    0.015876\n",
              "2016-03-16    0.016452\n",
              "2016-03-17    0.028086\n",
              "2016-03-18    0.007351\n",
              "2016-03-19    0.015834\n",
              "2016-03-20    0.020653\n",
              "2016-03-21    0.020632\n",
              "2016-03-22    0.021373\n",
              "2016-03-23    0.018532\n",
              "2016-03-24    0.019767\n",
              "2016-03-25    0.019211\n",
              "2016-03-26    0.016802\n",
              "2016-03-27    0.015649\n",
              "2016-03-28    0.020859\n",
              "2016-03-29    0.022341\n",
              "2016-03-30    0.024771\n",
              "2016-03-31    0.023783\n",
              "2016-04-01    0.022794\n",
              "2016-04-02    0.024915\n",
              "2016-04-03    0.025203\n",
              "2016-04-04    0.024483\n",
              "2016-04-05    0.124761\n",
              "2016-04-06    0.221806\n",
              "2016-04-07    0.131947\n",
              "Name: last_seen, dtype: float64"
            ]
          },
          "execution_count": 36,
          "metadata": {},
          "output_type": "execute_result"
        }
      ],
      "source": [
        "(auta['last_seen']\n",
        "        .str[:10]\n",
        "        .value_counts(normalize = True, dropna = False)\n",
        "        .sort_index()\n",
        "        )"
      ]
    },
    {
      "cell_type": "markdown",
      "metadata": {
        "id": "ajE54GXWvEvZ"
      },
      "source": [
        "Ciężko jest jednoznacznie stawierdzić skąd pochodzi wzrost w warościach rozkładu z ostatnich 3 dni w kolumnie `last_seen` *(czyli informacji kiedy auckaj zosgtała usunięta z witryny, najczęsciej na skutek sprzedarzy)*\n",
        "\n",
        "Kolumne  registration_year należy przeczyścić, ponieważ zawiera infoamcje nieprawdziwe. Np. rok produkcji auta 1000 (czyli przed ich wynalezieniem) lub 9999 czyli daleką przyszłość. Pozycje powyżej 2016 roku można usunąć, a za początek produkcji aut, przyjęto rok 1900.\n"
      ]
    },
    {
      "cell_type": "code",
      "execution_count": null,
      "metadata": {
        "colab": {
          "base_uri": "https://localhost:8080/"
        },
        "id": "7pCTDf10m2Tb",
        "outputId": "6f1fa1b8-c360-4a96-bcdf-a1ee8f9da05a"
      },
      "outputs": [
        {
          "data": {
            "text/plain": [
              "0.961206630289303"
            ]
          },
          "execution_count": 39,
          "metadata": {},
          "output_type": "execute_result"
        }
      ],
      "source": [
        "(auta['registration_year'].between(1900,2016)).sum() / auta.shape[0]"
      ]
    },
    {
      "cell_type": "markdown",
      "metadata": {
        "id": "2WZ12NZuw-7V"
      },
      "source": [
        "Postanowiono usunąć te dane, tracąc ich niecałe 4%."
      ]
    },
    {
      "cell_type": "code",
      "execution_count": null,
      "metadata": {
        "id": "QIrVbhbQw-Td"
      },
      "outputs": [],
      "source": [
        "auta = auta[auta['registration_year'].between(1900, 2016)]"
      ]
    },
    {
      "cell_type": "markdown",
      "metadata": {
        "id": "a5JyyKu2xNwv"
      },
      "source": [
        "Sprawdzono 10 najczęściej występujących roczników"
      ]
    },
    {
      "cell_type": "code",
      "execution_count": null,
      "metadata": {
        "colab": {
          "base_uri": "https://localhost:8080/"
        },
        "id": "9_SwUejRxOv_",
        "outputId": "8c5d6afe-dfb2-4656-d04d-b11a4cb1c2d9"
      },
      "outputs": [
        {
          "data": {
            "text/plain": [
              "2000    0.067608\n",
              "2005    0.062895\n",
              "1999    0.062060\n",
              "2004    0.057904\n",
              "2003    0.057818\n",
              "2006    0.057197\n",
              "2001    0.056468\n",
              "2002    0.053255\n",
              "1998    0.050620\n",
              "2007    0.048778\n",
              "2008    0.047450\n",
              "2009    0.044665\n",
              "1997    0.041794\n",
              "2011    0.034768\n",
              "2010    0.034040\n",
              "Name: registration_year, dtype: float64"
            ]
          },
          "execution_count": 43,
          "metadata": {},
          "output_type": "execute_result"
        }
      ],
      "source": [
        "auta['registration_year'].value_counts(normalize = True).head(15)"
      ]
    },
    {
      "cell_type": "markdown",
      "metadata": {
        "id": "cX-c3mPIxaDj"
      },
      "source": [
        "Jak widać, większość samochodów w zbiorze zostało wyprodukowanych w ostatnich 20 latach (od 2016)"
      ]
    },
    {
      "cell_type": "markdown",
      "metadata": {
        "id": "T_wXrULryUAo"
      },
      "source": [
        "#### Eksploracja danych dotyczących ceny na podstawie marki samochodu."
      ]
    },
    {
      "cell_type": "markdown",
      "metadata": {
        "id": "sCeD9uvSyktc"
      },
      "source": [
        "Sprawdzenie częstości występowania danej marki"
      ]
    },
    {
      "cell_type": "code",
      "execution_count": null,
      "metadata": {
        "colab": {
          "base_uri": "https://localhost:8080/"
        },
        "id": "ULroNm-Hylb7",
        "outputId": "a5835caa-370f-40d8-ba4c-a4de531c58cd"
      },
      "outputs": [
        {
          "data": {
            "text/plain": [
              "volkswagen        0.211264\n",
              "bmw               0.110045\n",
              "opel              0.107581\n",
              "mercedes_benz     0.096463\n",
              "audi              0.086566\n",
              "ford              0.069900\n",
              "renault           0.047150\n",
              "peugeot           0.029841\n",
              "fiat              0.025642\n",
              "seat              0.018273\n",
              "skoda             0.016409\n",
              "nissan            0.015274\n",
              "mazda             0.015188\n",
              "smart             0.014160\n",
              "citroen           0.014010\n",
              "toyota            0.012703\n",
              "hyundai           0.010025\n",
              "sonstige_autos    0.009811\n",
              "volvo             0.009147\n",
              "mini              0.008762\n",
              "mitsubishi        0.008226\n",
              "honda             0.007840\n",
              "kia               0.007069\n",
              "alfa_romeo        0.006641\n",
              "porsche           0.006127\n",
              "suzuki            0.005934\n",
              "chevrolet         0.005698\n",
              "chrysler          0.003513\n",
              "dacia             0.002635\n",
              "daihatsu          0.002506\n",
              "jeep              0.002271\n",
              "subaru            0.002142\n",
              "land_rover        0.002099\n",
              "saab              0.001649\n",
              "jaguar            0.001564\n",
              "daewoo            0.001500\n",
              "trabant           0.001392\n",
              "rover             0.001328\n",
              "lancia            0.001071\n",
              "lada              0.000578\n",
              "Name: brand, dtype: float64"
            ]
          },
          "execution_count": 44,
          "metadata": {},
          "output_type": "execute_result"
        }
      ],
      "source": [
        "auta['brand'].value_counts(normalize = True)"
      ]
    },
    {
      "cell_type": "markdown",
      "metadata": {
        "id": "RVyveOEiy6bT"
      },
      "source": [
        "Pierwsza piatka to marki niemieckie, najczęściej na niemieckim eBayu sprzedaje się volkswageny, które swoja ilością dorównują bmw i oplowi łącznie.\n",
        "\n",
        "Postanowiono skupić się jedynie na marakch których udział w zbiorze danych przekracza 5%."
      ]
    },
    {
      "cell_type": "code",
      "execution_count": null,
      "metadata": {
        "colab": {
          "base_uri": "https://localhost:8080/"
        },
        "id": "GcdpwyI6ywJB",
        "outputId": "7d960724-24d8-44a7-8d7c-6acbd11b018b"
      },
      "outputs": [
        {
          "data": {
            "text/plain": [
              "Index(['volkswagen', 'bmw', 'opel', 'mercedes_benz', 'audi', 'ford'], dtype='object')"
            ]
          },
          "execution_count": 45,
          "metadata": {},
          "output_type": "execute_result"
        }
      ],
      "source": [
        "marki = auta['brand'].value_counts(normalize = True)\n",
        "najpopularniejsze_marki = marki[marki > 0.05].index\n",
        "najpopularniejsze_marki"
      ]
    },
    {
      "cell_type": "code",
      "execution_count": null,
      "metadata": {
        "colab": {
          "base_uri": "https://localhost:8080/"
        },
        "id": "OfxGlvL7z-Gd",
        "outputId": "94fbbe28-331e-49e0-d49f-764b28d4b234"
      },
      "outputs": [
        {
          "data": {
            "text/plain": [
              "{'volkswagen': 5402,\n",
              " 'bmw': 8332,\n",
              " 'opel': 2975,\n",
              " 'mercedes_benz': 8628,\n",
              " 'audi': 9336,\n",
              " 'ford': 3749}"
            ]
          },
          "execution_count": 46,
          "metadata": {},
          "output_type": "execute_result"
        }
      ],
      "source": [
        "marki_sr_ceny = {}\n",
        "\n",
        "for marki in najpopularniejsze_marki: #dla kazdej marki w liście najpopularniejsze_marki\n",
        "    marka = auta[auta['brand'] == marki] #marka to df zawierajaca tylko dane iterowanej marki auta\n",
        "    sr_cena = marka['price'].mean() # sr_cena to średnai wartość kolumny price z df iterowanej marki auta\n",
        "    marki_sr_ceny[marki] = int(sr_cena) #utworzenie w slowniku klucza z marką i przypisanie jej wartości sr_cena\n",
        "\n",
        "marki_sr_ceny"
      ]
    },
    {
      "cell_type": "markdown",
      "metadata": {
        "id": "A3D70rDF14A1"
      },
      "source": [
        "Na podstawie średnich cen mozna wyciągnąć następujace wnioski:\n",
        "* Najtaniej z pierwszej piątki wypada Opel\n",
        "* Audi, Mercedes i BMW są średnio najdroższe\n",
        "* Volkswagen jest gdzieś pomiędzy pierwszą trójką a Oplem, co może wpływać na jego popularność"
      ]
    },
    {
      "cell_type": "markdown",
      "metadata": {
        "id": "yD0a967cycd7"
      },
      "source": [
        "Czas porównać ceny z przebiegiem i zobaczyć czy istnieje związek między nimi.\n",
        "\n",
        "W tym celu utworzono nowy df zawierający kolumny potrzebne d otej analizy."
      ]
    },
    {
      "cell_type": "code",
      "execution_count": null,
      "metadata": {
        "colab": {
          "base_uri": "https://localhost:8080/"
        },
        "id": "ocyFDZ9P5TC9",
        "outputId": "9d6fdb18-b524-4e0b-e203-6f073253319b"
      },
      "outputs": [
        {
          "data": {
            "text/plain": [
              "{'volkswagen': 128707,\n",
              " 'bmw': 132572,\n",
              " 'opel': 129310,\n",
              " 'mercedes_benz': 130788,\n",
              " 'audi': 129157,\n",
              " 'ford': 124266}"
            ]
          },
          "execution_count": 48,
          "metadata": {},
          "output_type": "execute_result"
        }
      ],
      "source": [
        "#Słownik i pętla działająca analogicznie do tej wyżej\n",
        "brand_mean_mileage = {}\n",
        "\n",
        "for brands in najpopularniejsze_marki:\n",
        "    brand_only = auta[auta['brand'] == brands]\n",
        "    mean_mileage = brand_only['odometer_km'].mean()\n",
        "    brand_mean_mileage[brands] = int(mean_mileage)\n",
        "\n",
        "brand_mean_mileage"
      ]
    },
    {
      "cell_type": "code",
      "execution_count": null,
      "metadata": {
        "id": "hFIitTE_5vP2"
      },
      "outputs": [],
      "source": [
        "mean_mileage = pd.Series(brand_mean_mileage).sort_values(ascending = False)\n",
        "mean_price = pd.Series(marki_sr_ceny).sort_values(ascending = False)"
      ]
    },
    {
      "cell_type": "markdown",
      "metadata": {
        "id": "Bros4H_S6Uge"
      },
      "source": [
        "klucze ze słownika stają sie obiektami w series.\n",
        "następnie utworzono, jednokolumnowy df, potem dodano kolejną kolumnę."
      ]
    },
    {
      "cell_type": "code",
      "execution_count": null,
      "metadata": {
        "colab": {
          "base_uri": "https://localhost:8080/",
          "height": 235
        },
        "id": "KV2dnlkc6lNt",
        "outputId": "3631256d-4567-412e-ad3a-c23f6ad25107"
      },
      "outputs": [
        {
          "data": {
            "text/html": [
              "\n",
              "  <div id=\"df-758007a7-bac8-430b-9b43-a2930c8cb610\">\n",
              "    <div class=\"colab-df-container\">\n",
              "      <div>\n",
              "<style scoped>\n",
              "    .dataframe tbody tr th:only-of-type {\n",
              "        vertical-align: middle;\n",
              "    }\n",
              "\n",
              "    .dataframe tbody tr th {\n",
              "        vertical-align: top;\n",
              "    }\n",
              "\n",
              "    .dataframe thead th {\n",
              "        text-align: right;\n",
              "    }\n",
              "</style>\n",
              "<table border=\"1\" class=\"dataframe\">\n",
              "  <thead>\n",
              "    <tr style=\"text-align: right;\">\n",
              "      <th></th>\n",
              "      <th>mean_mileage</th>\n",
              "    </tr>\n",
              "  </thead>\n",
              "  <tbody>\n",
              "    <tr>\n",
              "      <th>bmw</th>\n",
              "      <td>132572</td>\n",
              "    </tr>\n",
              "    <tr>\n",
              "      <th>mercedes_benz</th>\n",
              "      <td>130788</td>\n",
              "    </tr>\n",
              "    <tr>\n",
              "      <th>opel</th>\n",
              "      <td>129310</td>\n",
              "    </tr>\n",
              "    <tr>\n",
              "      <th>audi</th>\n",
              "      <td>129157</td>\n",
              "    </tr>\n",
              "    <tr>\n",
              "      <th>volkswagen</th>\n",
              "      <td>128707</td>\n",
              "    </tr>\n",
              "    <tr>\n",
              "      <th>ford</th>\n",
              "      <td>124266</td>\n",
              "    </tr>\n",
              "  </tbody>\n",
              "</table>\n",
              "</div>\n",
              "      <button class=\"colab-df-convert\" onclick=\"convertToInteractive('df-758007a7-bac8-430b-9b43-a2930c8cb610')\"\n",
              "              title=\"Convert this dataframe to an interactive table.\"\n",
              "              style=\"display:none;\">\n",
              "        \n",
              "  <svg xmlns=\"http://www.w3.org/2000/svg\" height=\"24px\"viewBox=\"0 0 24 24\"\n",
              "       width=\"24px\">\n",
              "    <path d=\"M0 0h24v24H0V0z\" fill=\"none\"/>\n",
              "    <path d=\"M18.56 5.44l.94 2.06.94-2.06 2.06-.94-2.06-.94-.94-2.06-.94 2.06-2.06.94zm-11 1L8.5 8.5l.94-2.06 2.06-.94-2.06-.94L8.5 2.5l-.94 2.06-2.06.94zm10 10l.94 2.06.94-2.06 2.06-.94-2.06-.94-.94-2.06-.94 2.06-2.06.94z\"/><path d=\"M17.41 7.96l-1.37-1.37c-.4-.4-.92-.59-1.43-.59-.52 0-1.04.2-1.43.59L10.3 9.45l-7.72 7.72c-.78.78-.78 2.05 0 2.83L4 21.41c.39.39.9.59 1.41.59.51 0 1.02-.2 1.41-.59l7.78-7.78 2.81-2.81c.8-.78.8-2.07 0-2.86zM5.41 20L4 18.59l7.72-7.72 1.47 1.35L5.41 20z\"/>\n",
              "  </svg>\n",
              "      </button>\n",
              "      \n",
              "  <style>\n",
              "    .colab-df-container {\n",
              "      display:flex;\n",
              "      flex-wrap:wrap;\n",
              "      gap: 12px;\n",
              "    }\n",
              "\n",
              "    .colab-df-convert {\n",
              "      background-color: #E8F0FE;\n",
              "      border: none;\n",
              "      border-radius: 50%;\n",
              "      cursor: pointer;\n",
              "      display: none;\n",
              "      fill: #1967D2;\n",
              "      height: 32px;\n",
              "      padding: 0 0 0 0;\n",
              "      width: 32px;\n",
              "    }\n",
              "\n",
              "    .colab-df-convert:hover {\n",
              "      background-color: #E2EBFA;\n",
              "      box-shadow: 0px 1px 2px rgba(60, 64, 67, 0.3), 0px 1px 3px 1px rgba(60, 64, 67, 0.15);\n",
              "      fill: #174EA6;\n",
              "    }\n",
              "\n",
              "    [theme=dark] .colab-df-convert {\n",
              "      background-color: #3B4455;\n",
              "      fill: #D2E3FC;\n",
              "    }\n",
              "\n",
              "    [theme=dark] .colab-df-convert:hover {\n",
              "      background-color: #434B5C;\n",
              "      box-shadow: 0px 1px 3px 1px rgba(0, 0, 0, 0.15);\n",
              "      filter: drop-shadow(0px 1px 2px rgba(0, 0, 0, 0.3));\n",
              "      fill: #FFFFFF;\n",
              "    }\n",
              "  </style>\n",
              "\n",
              "      <script>\n",
              "        const buttonEl =\n",
              "          document.querySelector('#df-758007a7-bac8-430b-9b43-a2930c8cb610 button.colab-df-convert');\n",
              "        buttonEl.style.display =\n",
              "          google.colab.kernel.accessAllowed ? 'block' : 'none';\n",
              "\n",
              "        async function convertToInteractive(key) {\n",
              "          const element = document.querySelector('#df-758007a7-bac8-430b-9b43-a2930c8cb610');\n",
              "          const dataTable =\n",
              "            await google.colab.kernel.invokeFunction('convertToInteractive',\n",
              "                                                     [key], {});\n",
              "          if (!dataTable) return;\n",
              "\n",
              "          const docLinkHtml = 'Like what you see? Visit the ' +\n",
              "            '<a target=\"_blank\" href=https://colab.research.google.com/notebooks/data_table.ipynb>data table notebook</a>'\n",
              "            + ' to learn more about interactive tables.';\n",
              "          element.innerHTML = '';\n",
              "          dataTable['output_type'] = 'display_data';\n",
              "          await google.colab.output.renderOutput(dataTable, element);\n",
              "          const docLink = document.createElement('div');\n",
              "          docLink.innerHTML = docLinkHtml;\n",
              "          element.appendChild(docLink);\n",
              "        }\n",
              "      </script>\n",
              "    </div>\n",
              "  </div>\n",
              "  "
            ],
            "text/plain": [
              "               mean_mileage\n",
              "bmw                  132572\n",
              "mercedes_benz        130788\n",
              "opel                 129310\n",
              "audi                 129157\n",
              "volkswagen           128707\n",
              "ford                 124266"
            ]
          },
          "execution_count": 51,
          "metadata": {},
          "output_type": "execute_result"
        }
      ],
      "source": [
        "top_brand_info = pd.DataFrame(mean_mileage, columns = ['mean_mileage'])\n",
        "top_brand_info"
      ]
    },
    {
      "cell_type": "code",
      "execution_count": null,
      "metadata": {
        "colab": {
          "base_uri": "https://localhost:8080/",
          "height": 235
        },
        "id": "V1hwAHDV62CY",
        "outputId": "30b670d1-7f73-4948-e7a6-30ca55ec8eda"
      },
      "outputs": [
        {
          "data": {
            "text/html": [
              "\n",
              "  <div id=\"df-24ea91f1-d9f4-4a66-b97a-0d09206f5460\">\n",
              "    <div class=\"colab-df-container\">\n",
              "      <div>\n",
              "<style scoped>\n",
              "    .dataframe tbody tr th:only-of-type {\n",
              "        vertical-align: middle;\n",
              "    }\n",
              "\n",
              "    .dataframe tbody tr th {\n",
              "        vertical-align: top;\n",
              "    }\n",
              "\n",
              "    .dataframe thead th {\n",
              "        text-align: right;\n",
              "    }\n",
              "</style>\n",
              "<table border=\"1\" class=\"dataframe\">\n",
              "  <thead>\n",
              "    <tr style=\"text-align: right;\">\n",
              "      <th></th>\n",
              "      <th>mean_mileage</th>\n",
              "      <th>mean_price</th>\n",
              "    </tr>\n",
              "  </thead>\n",
              "  <tbody>\n",
              "    <tr>\n",
              "      <th>bmw</th>\n",
              "      <td>132572</td>\n",
              "      <td>8332</td>\n",
              "    </tr>\n",
              "    <tr>\n",
              "      <th>mercedes_benz</th>\n",
              "      <td>130788</td>\n",
              "      <td>8628</td>\n",
              "    </tr>\n",
              "    <tr>\n",
              "      <th>opel</th>\n",
              "      <td>129310</td>\n",
              "      <td>2975</td>\n",
              "    </tr>\n",
              "    <tr>\n",
              "      <th>audi</th>\n",
              "      <td>129157</td>\n",
              "      <td>9336</td>\n",
              "    </tr>\n",
              "    <tr>\n",
              "      <th>volkswagen</th>\n",
              "      <td>128707</td>\n",
              "      <td>5402</td>\n",
              "    </tr>\n",
              "    <tr>\n",
              "      <th>ford</th>\n",
              "      <td>124266</td>\n",
              "      <td>3749</td>\n",
              "    </tr>\n",
              "  </tbody>\n",
              "</table>\n",
              "</div>\n",
              "      <button class=\"colab-df-convert\" onclick=\"convertToInteractive('df-24ea91f1-d9f4-4a66-b97a-0d09206f5460')\"\n",
              "              title=\"Convert this dataframe to an interactive table.\"\n",
              "              style=\"display:none;\">\n",
              "        \n",
              "  <svg xmlns=\"http://www.w3.org/2000/svg\" height=\"24px\"viewBox=\"0 0 24 24\"\n",
              "       width=\"24px\">\n",
              "    <path d=\"M0 0h24v24H0V0z\" fill=\"none\"/>\n",
              "    <path d=\"M18.56 5.44l.94 2.06.94-2.06 2.06-.94-2.06-.94-.94-2.06-.94 2.06-2.06.94zm-11 1L8.5 8.5l.94-2.06 2.06-.94-2.06-.94L8.5 2.5l-.94 2.06-2.06.94zm10 10l.94 2.06.94-2.06 2.06-.94-2.06-.94-.94-2.06-.94 2.06-2.06.94z\"/><path d=\"M17.41 7.96l-1.37-1.37c-.4-.4-.92-.59-1.43-.59-.52 0-1.04.2-1.43.59L10.3 9.45l-7.72 7.72c-.78.78-.78 2.05 0 2.83L4 21.41c.39.39.9.59 1.41.59.51 0 1.02-.2 1.41-.59l7.78-7.78 2.81-2.81c.8-.78.8-2.07 0-2.86zM5.41 20L4 18.59l7.72-7.72 1.47 1.35L5.41 20z\"/>\n",
              "  </svg>\n",
              "      </button>\n",
              "      \n",
              "  <style>\n",
              "    .colab-df-container {\n",
              "      display:flex;\n",
              "      flex-wrap:wrap;\n",
              "      gap: 12px;\n",
              "    }\n",
              "\n",
              "    .colab-df-convert {\n",
              "      background-color: #E8F0FE;\n",
              "      border: none;\n",
              "      border-radius: 50%;\n",
              "      cursor: pointer;\n",
              "      display: none;\n",
              "      fill: #1967D2;\n",
              "      height: 32px;\n",
              "      padding: 0 0 0 0;\n",
              "      width: 32px;\n",
              "    }\n",
              "\n",
              "    .colab-df-convert:hover {\n",
              "      background-color: #E2EBFA;\n",
              "      box-shadow: 0px 1px 2px rgba(60, 64, 67, 0.3), 0px 1px 3px 1px rgba(60, 64, 67, 0.15);\n",
              "      fill: #174EA6;\n",
              "    }\n",
              "\n",
              "    [theme=dark] .colab-df-convert {\n",
              "      background-color: #3B4455;\n",
              "      fill: #D2E3FC;\n",
              "    }\n",
              "\n",
              "    [theme=dark] .colab-df-convert:hover {\n",
              "      background-color: #434B5C;\n",
              "      box-shadow: 0px 1px 3px 1px rgba(0, 0, 0, 0.15);\n",
              "      filter: drop-shadow(0px 1px 2px rgba(0, 0, 0, 0.3));\n",
              "      fill: #FFFFFF;\n",
              "    }\n",
              "  </style>\n",
              "\n",
              "      <script>\n",
              "        const buttonEl =\n",
              "          document.querySelector('#df-24ea91f1-d9f4-4a66-b97a-0d09206f5460 button.colab-df-convert');\n",
              "        buttonEl.style.display =\n",
              "          google.colab.kernel.accessAllowed ? 'block' : 'none';\n",
              "\n",
              "        async function convertToInteractive(key) {\n",
              "          const element = document.querySelector('#df-24ea91f1-d9f4-4a66-b97a-0d09206f5460');\n",
              "          const dataTable =\n",
              "            await google.colab.kernel.invokeFunction('convertToInteractive',\n",
              "                                                     [key], {});\n",
              "          if (!dataTable) return;\n",
              "\n",
              "          const docLinkHtml = 'Like what you see? Visit the ' +\n",
              "            '<a target=\"_blank\" href=https://colab.research.google.com/notebooks/data_table.ipynb>data table notebook</a>'\n",
              "            + ' to learn more about interactive tables.';\n",
              "          element.innerHTML = '';\n",
              "          dataTable['output_type'] = 'display_data';\n",
              "          await google.colab.output.renderOutput(dataTable, element);\n",
              "          const docLink = document.createElement('div');\n",
              "          docLink.innerHTML = docLinkHtml;\n",
              "          element.appendChild(docLink);\n",
              "        }\n",
              "      </script>\n",
              "    </div>\n",
              "  </div>\n",
              "  "
            ],
            "text/plain": [
              "               mean_mileage  mean_price\n",
              "bmw                  132572        8332\n",
              "mercedes_benz        130788        8628\n",
              "opel                 129310        2975\n",
              "audi                 129157        9336\n",
              "volkswagen           128707        5402\n",
              "ford                 124266        3749"
            ]
          },
          "execution_count": 52,
          "metadata": {},
          "output_type": "execute_result"
        }
      ],
      "source": [
        "top_brand_info['mean_price'] = mean_price\n",
        "top_brand_info"
      ]
    },
    {
      "cell_type": "markdown",
      "source": [
        "#### Wnioski\n",
        "Ciekawy projekt, na pewno nauczył mnie dużo o czyszczeniu danych, tego na jak wiele rzeczy należy zwrócić uwagę nawet przy obliczaniu prostych średnich czy korelaci zmiennych. Poza tym otworzył przede mną chęć ekspolracji tego typu danych ale związach ze sprzętem elektorinicznym."
      ],
      "metadata": {
        "id": "js1QysUCv6ab"
      }
    }
  ],
  "metadata": {
    "colab": {
      "collapsed_sections": [
        "OH5qNeQPEnVc",
        "9TwGE776emR-",
        "KvYISt3Gj5n8"
      ],
      "toc_visible": true,
      "provenance": []
    },
    "kernelspec": {
      "display_name": "Python 3",
      "name": "python3"
    },
    "language_info": {
      "name": "python"
    }
  },
  "nbformat": 4,
  "nbformat_minor": 0
}